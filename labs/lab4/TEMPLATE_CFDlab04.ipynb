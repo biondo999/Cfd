{
  "cells": [
    {
      "cell_type": "markdown",
      "metadata": {
        "id": "view-in-github",
        "colab_type": "text"
      },
      "source": [
        "<a href=\"https://colab.research.google.com/github/biondo999/Cfd/blob/main/TEMPLATE_CFDlab04.ipynb\" target=\"_parent\"><img src=\"https://colab.research.google.com/assets/colab-badge.svg\" alt=\"Open In Colab\"/></a>"
      ]
    },
    {
      "cell_type": "code",
      "execution_count": null,
      "id": "3S6xPouYEYrq",
      "metadata": {
        "id": "3S6xPouYEYrq"
      },
      "outputs": [],
      "source": [
        "try:\n",
        "    import firedrake\n",
        "except ImportError:\n",
        "    !wget \"https://fem-on-colab.github.io/releases/firedrake-install-real.sh\" -O \"/tmp/firedrake-install.sh\" && bash \"/tmp/firedrake-install.sh\"\n",
        "    import firedrake"
      ]
    },
    {
      "cell_type": "code",
      "execution_count": null,
      "id": "GoZ-yCJ-JNIe",
      "metadata": {
        "id": "GoZ-yCJ-JNIe"
      },
      "outputs": [],
      "source": [
        "from google.colab import drive\n",
        "drive.mount('/content/drive')"
      ]
    },
    {
      "cell_type": "code",
      "execution_count": null,
      "id": "0Zf-PF6eYduS",
      "metadata": {
        "id": "0Zf-PF6eYduS"
      },
      "outputs": [],
      "source": [
        "from firedrake import *\n",
        "import matplotlib.pyplot as plt\n",
        "import numpy as np\n",
        "\n",
        "from firedrake.petsc import PETSc"
      ]
    },
    {
      "cell_type": "markdown",
      "id": "46477c0c",
      "metadata": {
        "id": "46477c0c"
      },
      "source": [
        "### User defined operators compatible with PETSc KSP solver.\n",
        "For further info:\n",
        "\n",
        "https://www.firedrakeproject.org/petsc-interface.html\n",
        "\n",
        "and the documentation of firedrake and PETSc/petsc4py.\n",
        "\n",
        "### ***DOCUMENTATION CELL: DO NOT RUN***"
      ]
    },
    {
      "cell_type": "code",
      "execution_count": null,
      "id": "bcdac5f4",
      "metadata": {
        "id": "bcdac5f4"
      },
      "outputs": [],
      "source": [
        "# Object representing a PETSC.Mat M without the actual assembly of M.\n",
        "# e.g.  M = B*A^{-1}*B' where one does not want to actually compute the inverse A^{-1},\n",
        "#       but rather solve the system associated to A whenever one needs to compute M*x.\n",
        "class MatrixFreeOperator(object):\n",
        "\n",
        "    # Constructor:\n",
        "    #     - store arguments passed as input\n",
        "    #     - create all temporary/auxiliary attributes used by method mult.\n",
        "    def __init__(self,B):\n",
        "        ...\n",
        "        # e.g. in the case a PETSc.Mat B is passed as input argument:\n",
        "        self.B = B\n",
        "\n",
        "        self.tmp1 = B.createVecRight()  # vector to which we can apply B*tmp1\n",
        "        self.tmp2 = B.createVecLeft()   # vector in which we can store tmp2=B*x\n",
        "        ...\n",
        "\n",
        "    # Implement y = M*x.\n",
        "    # Inputs:   mat     - an additional matrix that may be needed (e.g. a preconditioner)\n",
        "    #                     We will NOT use this argument, which is however needed to agree with KSP.\n",
        "    #           in_vec  - input_vector x\n",
        "    # Output:   out_vec - output vector y=M*x\n",
        "    def mult(self, mat, in_vec, out_vec):  #mat is a precond we are not going touseit\n",
        "        ...\n",
        "        # e.g. if M = self.B\n",
        "        self.B.mult(in_vec, out_vec)  #B*in_vec\n",
        "        ...\n",
        "\n",
        "\n",
        "\n",
        "# Object representing a preconditioner P^{-1} to solve a system by PETSc KSP solver.\n",
        "# \"Similar\" to MatrixFreeOperator, but with method apply instead of mult (to agree with KSP)\n",
        "#   and it needs also a setUp method.\n",
        "class MatrixFreePC(object):\n",
        "\n",
        "    # Constructor:\n",
        "    #     - store arguments passed as input;\n",
        "    #     - create all temporary/auxiliary attributes used by methods setUp and apply.\n",
        "    def __init__(self, ...):\n",
        "        ...\n",
        "\n",
        "    # Create the preconditioner structure and initialize it.\n",
        "    def setUp(self, pc):\n",
        "        ...\n",
        "        # e.g. if P = M\n",
        "        self.pc = PETSc.PC().create()\n",
        "        self.pc.setOptionsPrefix('pc_MatrixFreePC_')\n",
        "        self.pc.setOperators(self.M)\n",
        "        self.pc.setFromOptions()\n",
        "        ...\n",
        "\n",
        "    # Apply the preconditioner P, namely implement the operation y = P^{-1}*x\n",
        "    # (actually, solve the system P*y = x).\n",
        "    # Inputs:   mat     - an additional matrix that may be needed (e.g. a preconditioner)\n",
        "    #                     We will NOT use this argument, which is however needed to agree with KSP.\n",
        "    #           in_vec  - input_vector x\n",
        "    # Output:   out_vec - output vector y=M*x\n",
        "    def apply(self, mat, in_vec, out_vec):  #apply preconditoner\n",
        "        ...\n",
        "        # e.g. if setUp is like in the example above\n",
        "        self.pc.apply(in_vec, out_vec)\n",
        "        ..."
      ]
    },
    {
      "cell_type": "code",
      "execution_count": null,
      "id": "8f23e1a5",
      "metadata": {
        "id": "8f23e1a5"
      },
      "outputs": [],
      "source": [
        "# Useful cell to plot ph and uh\n",
        "fig, ax = plt.subplots()\n",
        "col = tripcolor(ph, axes=ax)\n",
        "plt.colorbar(col)\n",
        "plt.title('pressure')\n",
        "fig, ax = plt.subplots()\n",
        "col = quiver(uh, axes=ax)\n",
        "plt.colorbar(col)\n",
        "plt.title('velocity')"
      ]
    },
    {
      "cell_type": "markdown",
      "id": "54cfcfe4",
      "metadata": {
        "id": "54cfcfe4"
      },
      "source": [
        "---\n",
        "---\n",
        "# Exercise 1\n",
        "## Solve steady Stokes problem by Schur-complement method."
      ]
    },
    {
      "cell_type": "markdown",
      "id": "54e25927",
      "metadata": {
        "id": "54e25927"
      },
      "source": [
        "### Cavity problem\n",
        "\n",
        "\\begin{equation*}\n",
        "\\begin{cases}\n",
        "- \\Delta \\boldsymbol{u} + \\nabla  p  = \\boldsymbol{0} & {\\rm in} \\ \\Omega=(0,1)^2, \\\\\n",
        "{\\rm div}\\,\\boldsymbol{u} = 0 & {\\rm in} \\ \\Omega, \\\\\n",
        "\\boldsymbol{u} = \\boldsymbol{g}_\\text{D} & {\\rm on} \\ \\Gamma_4 = (0,1)\\times\\{4\\},\\\\\n",
        "\\boldsymbol{u} = \\boldsymbol{0} & {\\rm on} \\ \\partial\\Omega\\setminus\\Gamma_4,\n",
        "\\end{cases}\n",
        "\\end{equation*}\n",
        "\n",
        "with $\\boldsymbol{g}_\\text{D} = 1\\boldsymbol{i}$."
      ]
    },
    {
      "cell_type": "markdown",
      "id": "afb165f3",
      "metadata": {
        "id": "afb165f3"
      },
      "source": [
        "For each point of the exercise we create functions, so that it is easier to re-use code."
      ]
    },
    {
      "cell_type": "markdown",
      "id": "a591fe47",
      "metadata": {
        "id": "a591fe47"
      },
      "source": [
        "### Point 1. Assemble the matrices defining the problem (penalty method for Dirichlet BCs)."
      ]
    },
    {
      "cell_type": "code",
      "execution_count": null,
      "id": "d430b463",
      "metadata": {
        "id": "d430b463"
      },
      "outputs": [],
      "source": [
        "def ex1_problem_assembly(n):\n",
        "    # Mesh, FE spaces (separate, not mixed), and trial and test functions.\n",
        "    mesh = UnitSquareMesh(n, n, 'crossed')\n",
        "    ...\n",
        "\n",
        "\n",
        "    V = VectorFunctionSpace(mesh, 'P', 2)\n",
        "    Q = FunctionSpace(mesh, 'P', 1)\n",
        "\n",
        "\n",
        "    W = MixedFunctionSpace([V, Q])\n",
        "    print('Ndofs - velocity :',V.dim(),', pressure :',Q.dim(),', total :',W.dim())\n",
        "\n",
        "\n",
        "    # Data.\n",
        "    g_lid=Constant((1.0,0.0))\n",
        "    u, p = TrialFunctions(W)\n",
        "    v, q = TestFunctions(W)\n",
        "\n",
        "    # Variational forms with the penalty method for Dirichlet boundary conditions.\n",
        "    eps = 1e-20\n",
        "    a = inner(grad(u), grad(v)) * dx +(1/eps)*inner(u,v)*ds  #ds for the boundary\n",
        "    b = - div(u) * q * dx\n",
        "    L = inner(Constant((0.0,0.0)),v)*dx+(1/eps)*inner(g_lid,v) *ds(4)    # Dirichlet conditions are non-homogeneous only on boundary 4\n",
        "                                     #only on the forth edge\n",
        "    # Assemble matrices and set-up direct solver for A.\n",
        "    A_fd = assemble(a)          # firedrake Matrix. No strong bcs: penalty method.\n",
        "    B = assemble(b).M.handle    # PETSc Mat\n",
        "    F = assemble(L)\n",
        "    params = {'ksp_type':'preonly', 'pc_type':'lu'} # direct method\n",
        "    ls_A = LinearSolver(A_fd, solver_parameters=params)\n",
        "    ksp_A = ls_A.ksp\n",
        "\n",
        "    return V, Q, ksp_A, B, F"
      ]
    },
    {
      "cell_type": "code",
      "execution_count": null,
      "id": "1b85ed5c",
      "metadata": {
        "id": "1b85ed5c"
      },
      "outputs": [],
      "source": [
        "V, Q, ksp_A, B, F = ex1_problem_assembly(20)"
      ]
    },
    {
      "cell_type": "code",
      "source": [
        "print(B)\n",
        "print(F)"
      ],
      "metadata": {
        "id": "ndGzkUV0QHgZ"
      },
      "id": "ndGzkUV0QHgZ",
      "execution_count": null,
      "outputs": []
    },
    {
      "cell_type": "markdown",
      "id": "8c5fe278",
      "metadata": {
        "id": "8c5fe278"
      },
      "source": [
        "### Point 2. Define classes for Schur complement and M-based preconditioner."
      ]
    },
    {
      "cell_type": "code",
      "execution_count": null,
      "id": "8088ba01",
      "metadata": {
        "id": "8088ba01"
      },
      "outputs": [],
      "source": [
        "# Object representing S = B*A^{-1}*B' (see doc above on MatrixFreeOperator).\n",
        "class SchurComplement(object):\n",
        "    def __init__(self, ksp_A, B):\n",
        "        self.ksp_A = ksp_A\n",
        "        self.B = B\n",
        "        self.tmp_u1 = B.createVecRight()    # vector to which we can apply B*tmp_u1\n",
        "        self.tmp_u2 = B.createVecRight()    # vector to which we can apply B*tmp_u2\n",
        "        self.tmp_p  = B.createVecLeft()     # vector in which we can store tmp_p=B*x\n",
        "    def mult(self, mat, in_vec, out_vec):\n",
        "        # Implements out_vec = B*A^{-1}*B'*in_vec\n",
        "\n",
        "        # tmp_u1 = B'*in_vec\n",
        "        self.B.multTranspose(in_vec, self.tmp_u1)\n",
        "        # tmp_u2=A^{-1}*tmp_u1   ->   solve A*tmp_u2 = tmp_u1\n",
        "        ksp_A.solve(self.tmp_u1,self.tmp_u2)\n",
        "        # out_vec = B*tmp_u2\n",
        "        self.B.mult(self.tmp_u2, out_vec)\n",
        "\n",
        "        # print(\"A solved in\", self.ksp_A.getIterationNumber(), \"iterations.\")\n",
        "\n",
        "\n",
        "# Create a preconditioner (see doc above on MatrixFreePC)\n",
        "# based on a PETSC.Mat and possibly using lumping or its diagonal component\n",
        "class MyMatrixPC(object):\n",
        "\n",
        "    # Constructor.\n",
        "    # Input - mat:  the preconditioning matrix\n",
        "    def __init__(self, mat):\n",
        "        self.mat = mat\n",
        "\n",
        "    # Create the preconditioner structure and initialize it.\n",
        "    def setUp(self, pc):\n",
        "        S, P_S = pc.getOperators()\n",
        "        self.pc = PETSc.PC().create()\n",
        "        self.pc.setOptionsPrefix('pc_MyMatrixPC_')\n",
        "        self.pc.setOperators(self.mat)\n",
        "        self.pc.setFromOptions()\n",
        "\n",
        "    # Implement pc^{-1}*in_vec = out_vec.\n",
        "    def apply(self, mat, in_vec, out_vec):\n",
        "        self.pc.apply(in_vec, out_vec)\n",
        "\n",
        "\n",
        "# Create a preconditioner based on PETSc.Mat P and and set it into ksp.\n",
        "# Inputs:   ksp solver\n",
        "#           preconditioner P as PETSc Matrix\n",
        "def set_KSP_PC(ksp, P): #to wrap all\n",
        "    MpPC = MyMatrixPC(P)\n",
        "    pc = ksp.pc\n",
        "    pc.setType(pc.Type.PYTHON)\n",
        "    pc.setPythonContext(MpPC)\n"
      ]
    },
    {
      "cell_type": "markdown",
      "id": "2f6cf600",
      "metadata": {
        "id": "2f6cf600"
      },
      "source": [
        "### Point 3. Solve Stokes cavity problem."
      ]
    },
    {
      "cell_type": "markdown",
      "id": "8f70a687",
      "metadata": {
        "id": "8f70a687"
      },
      "source": [
        "a. Create and setup solvers and preconditioners."
      ]
    },
    {
      "cell_type": "code",
      "execution_count": null,
      "id": "ad131119",
      "metadata": {
        "id": "ad131119"
      },
      "outputs": [],
      "source": [
        "def ex1_setup_solver(Q, ksp_A, B):\n",
        "    # Create a PETSc Mat wrapping a SchurComplement instance.\n",
        "    S = PETSc.Mat().create()\n",
        "    S.setSizes( B.getSize()[0], B.getSize()[0] )    # B is m-by-n  ->  S is m-by-m (square)\n",
        "    # print(\"Size   ->   A:\", A_fd.M.handle.getSize(), \"  B:\", B.getSize(), \"  S:\", S.getSize())\n",
        "    S.setType(S.Type.PYTHON)            # i.e. user-defined\n",
        "    Sctx = SchurComplement(ksp_A, B)    # build the matrix \"context\" [ https://www.firedrakeproject.org/petsc-interface.html#building-an-operator ]\n",
        "    S.setPythonContext(Sctx)            # set context into S\n",
        "    S.setUp()\n",
        "\n",
        "    # Create KSP solver for system associated to S.\n",
        "    ksp_S = PETSc.KSP().create() #krilov methods\n",
        "    ksp_S.setType('cg')     # S is positive definite\n",
        "    ksp_S.setOperators(S)\n",
        "\n",
        "    # Create preconditioning matrix and set it into ksp_S.\n",
        "    p = TrialFunction(Q)\n",
        "    q = TestFunction(Q)\n",
        "    #diff between trial and test\n",
        "    Mp = assemble(p*q*dx).M.handle\n",
        "    set_KSP_PC(ksp_S,Mp)\n",
        "\n",
        "    # Set verbose to True for detailed logging of ksp_S.\n",
        "    # These options are stored GLOBALLY: petsc_options is just a proxy.\n",
        "    petsc_options = PETSc.Options()\n",
        "    verbose = False\n",
        "    if verbose:\n",
        "        petsc_options['ksp_view'] = ''\n",
        "        petsc_options['ksp_monitor_true_residual'] = ''\n",
        "    else:\n",
        "        del petsc_options['ksp_view']\n",
        "        del petsc_options['ksp_monitor_true_residual']\n",
        "\n",
        "    # Finalize setup of ksp_S.\n",
        "    ksp_S.setFromOptions()\n",
        "    ksp_S.setUp()\n",
        "\n",
        "    return ksp_S"
      ]
    },
    {
      "cell_type": "code",
      "execution_count": null,
      "id": "7d4d1de3",
      "metadata": {
        "id": "7d4d1de3"
      },
      "outputs": [],
      "source": [
        "ksp_S = ex1_setup_solver(Q, ksp_A, B)"
      ]
    },
    {
      "cell_type": "markdown",
      "id": "0bd0a73f",
      "metadata": {
        "id": "0bd0a73f"
      },
      "source": [
        "b. Solve the problem"
      ]
    },
    {
      "cell_type": "code",
      "execution_count": null,
      "id": "8af8c3bb",
      "metadata": {
        "id": "8af8c3bb"
      },
      "outputs": [],
      "source": [
        "def ex1_solve(V, Q, ksp_A, B, ksp_S, vecF):\n",
        "    # Actual functions to store solution and to create temporary vectors.\n",
        "    uh = Function(V)\n",
        "    ph = Function(Q)\n",
        "    tmp_u_fun = Function(V)\n",
        "    tmp_p_fun = Function(Q)\n",
        "    rhs_p_fun = Function(Q)\n",
        "    # Extract the dof vectors as PETSc.Vec and give them aliases.\n",
        "    # Temporary vectors are in read/write mode,\n",
        "    # while momentum rhs is in read-only mode.\n",
        "    with uh.vector().dat.vec_wo as vecU,\\\n",
        "        ph.vector().dat.vec_wo as vecP,\\\n",
        "        tmp_u_fun.vector().dat.vec_wo as tmp_u,\\\n",
        "        tmp_p_fun.vector().dat.vec_wo as tmp_p,\\\n",
        "        rhs_p_fun.vector().dat.vec_wo as rhs_p:\n",
        "\n",
        "\n",
        "\n",
        "        # rhs_p = B*(A^{-1}*F)\n",
        "        ksp_A.solve(vecF,tmp_u)\n",
        "\n",
        "        B.mult(tmp_u,rhs_p)\n",
        "\n",
        "        # solve S*P = rhs_p and store it into the dof array of ph\n",
        "        ksp_S.solve(rhs_p,vecP)\n",
        "\n",
        "        # reconstruct velocity U = A^{-1}*(F-B'*P) and store it into the dof array of uh\n",
        "        B.multTranspose(vecP,tmp_u)\n",
        "        ksp_A.solve(vecF-tmp_u,vecU)\n",
        "\n",
        "    print(\"Schur-based solver:\")\n",
        "    print(\"     # iterations =\", ksp_S.getIterationNumber())\n",
        "    print(\"     last iter residual norm =\", ksp_S.getResidualNorm())\n",
        "    print(\"     (only to check convergence of kps_S: it is NOT a measure of the actual error\")\n",
        "\n",
        "    return uh, ph, mesh"
      ]
    },
    {
      "cell_type": "code",
      "execution_count": null,
      "id": "e60c9eb1",
      "metadata": {
        "id": "e60c9eb1"
      },
      "outputs": [],
      "source": [
        "with F.dat.vec_ro as vecF:\n",
        "    uh, ph, mesh = ex1_solve(V, Q, ksp_A, B, ksp_S, vecF)"
      ]
    },
    {
      "cell_type": "code",
      "execution_count": null,
      "id": "a091fca3",
      "metadata": {
        "id": "a091fca3"
      },
      "outputs": [],
      "source": [
        "# Plot ph and uh\n",
        "fig, ax = plt.subplots()\n",
        "col = tripcolor(ph, axes=ax)\n",
        "plt.colorbar(col)\n",
        "plt.title('pressure')\n",
        "fig, ax = plt.subplots()\n",
        "col = quiver(uh, axes=ax)\n",
        "plt.colorbar(col)\n",
        "plt.title('velocity')"
      ]
    },
    {
      "cell_type": "markdown",
      "id": "fbd2ab9a",
      "metadata": {
        "id": "fbd2ab9a"
      },
      "source": [
        "### Point 4. Compare preconditioners.\n",
        "Hint: copy-paste cells of point 2 and `ex1_setup_solver` and modify them to implement different preconditioning strategies.\n",
        "Then use `ex1_solve` as already implemented."
      ]
    },
    {
      "cell_type": "code",
      "execution_count": null,
      "id": "8757e64e",
      "metadata": {
        "id": "8757e64e"
      },
      "outputs": [],
      "source": [
        "# Create a preconditioner (see doc above on MatrixFreePC)\n",
        "# based on a PETSC.Mat and possibly using lumping or its diagonal component\n",
        "class MyMatrixPC(object):\n",
        "    # Inputs:\n",
        "    #   - mat:      the preconditioning matrix\n",
        "    #   - lumping:  if True, use the lumped version of mat\n",
        "    #   - use_diag: if True, use the diagonal component of mat\n",
        "    def __init__(self, mat, lumping, use_diag):\n",
        "        self.mat = mat\n",
        "        self.lumping = lumping\n",
        "        self.use_diag = use_diag\n",
        "        self.vec = self.mat.createVecLeft()\n",
        "\n",
        "    def setUp(self, pc):\n",
        "        # check flags\n",
        "        if self.lumping and self.use_diag:\n",
        "            raise(BaseException('Error in MyMatrixPC: you can (possibly) either use lumping or diag, not both!'))\n",
        "\n",
        "        if self.lumping:\n",
        "            # Compute mat*ones and store it in vec.\n",
        "            tmp = self.mat.createVecRight()\n",
        "            tmp.set(1.0)\n",
        "            self.mat.mult(tmp, self.vec)\n",
        "\n",
        "        elif self.use_diag:\n",
        "            self.vec = self.mat.getDiagonal()\n",
        "\n",
        "        else: # use the full matrix mat\n",
        "            S, P_S = pc.getOperators()\n",
        "            self.pc = PETSc.PC().create()\n",
        "            self.pc.setOptionsPrefix('pc_MyMatrixPC_')\n",
        "            self.pc.setOperators(self.mat)\n",
        "            self.pc.setFromOptions()\n",
        "\n",
        "        # # Print mat and vec. Uncomment only for small mesh.\n",
        "        #     np.set_printoptions(precision=5)\n",
        "        #     np.set_printoptions(linewidth=400)\n",
        "        #     np.set_printoptions(suppress=True)\n",
        "        # with dim = self.mat.getSizes()[0][0]:\n",
        "        #     print('Preconditioner: mat =', self.mat.getValues(range(dim), range(dim)))\n",
        "        # print('vec =', self.vec.getArray())\n",
        "\n",
        "    # Implement \"pc^{-1}*in_vec = out_vec\" depending on the strategy.\n",
        "    def apply(self, mat, in_vec, out_vec):\n",
        "        if self.lumping or self.use_diag:\n",
        "            # out_vec[i] = in_vec[i]/self.vec[i]\n",
        "            out_vec.pointwiseDivide(in_vec, self.vec)\n",
        "        else: # use the full matrix mat\n",
        "            self.pc.apply(in_vec, out_vec)\n",
        "\n",
        "\n",
        "# Create a preconditioner based on PETSc.Mat P and and set it into ksp.\n",
        "# Inputs:   ksp solver\n",
        "#           preconditioner P as PETSc Matrix\n",
        "def set_KSP_PC(ksp, P, lumping=False, use_diag=False):\n",
        "    if lumping and use_diag:\n",
        "        raise(BaseException('Error in set_KSP_PC: you can (possibly) either use lumping or diag, not both!'))\n",
        "    MpPC = MyMatrixPC(P, lumping, use_diag)\n",
        "    pc = ksp.pc\n",
        "    pc.setType(pc.Type.PYTHON)\n",
        "    pc.setPythonContext(MpPC)"
      ]
    },
    {
      "cell_type": "code",
      "execution_count": null,
      "id": "68df4fcb",
      "metadata": {
        "id": "68df4fcb"
      },
      "outputs": [],
      "source": [
        "def ex1_setup_solver(Q, ksp_A, B):\n",
        "    # Create a PETSc Mat wrapping a SchurComplement instance.\n",
        "    S = PETSc.Mat().create()\n",
        "    S.setSizes( B.getSize()[0], B.getSize()[0] )    # B is m-by-n  ->  S is m-by-m (square)\n",
        "    # print(\"Size   ->   A:\", A_fd.M.handle.getSize(), \"  B:\", B.getSize(), \"  S:\", S.getSize())\n",
        "    S.setType(S.Type.PYTHON)            # i.e. user-defined\n",
        "    Sctx = SchurComplement(ksp_A, B)    # build the matrix \"context\" [ https://www.firedrakeproject.org/petsc-interface.html#building-an-operator ]\n",
        "    S.setPythonContext(Sctx)            # set context into S\n",
        "    S.setUp()\n",
        "\n",
        "    # Create KSP solver for system associated to S.\n",
        "    ksp_S = PETSc.KSP().create()\n",
        "    ksp_S.setType('cg')     # S is positive definite\n",
        "    ksp_S.setOperators(S)\n",
        "\n",
        "    # Create preconditioner and set it into ksp_S.\n",
        "    Mp = assemble(p*q*dx)\n",
        "    # uncomment to choose:\n",
        "    # pass                                            # no preconditioner: do nothing\n",
        "    set_KSP_PC(ksp_S, Mp.M.handle, False, False)    # full Mp matrix\n",
        "    # set_KSP_PC(ksp_S, Mp.M.handle, True, False)     # lumped Mp\n",
        "    # set_KSP_PC(ksp_S, Mp.M.handle, False, True)     # diag(Mp)\n",
        "\n",
        "    # Set verbose to True for detailed logging of ksp_S.\n",
        "    # These options are stored GLOBALLY: petsc_options is just a proxy.\n",
        "    petsc_options = PETSc.Options()\n",
        "    verbose = False\n",
        "    if verbose:\n",
        "        petsc_options['ksp_view'] = ''\n",
        "        petsc_options['ksp_monitor_true_residual'] = ''\n",
        "    else:\n",
        "        del petsc_options['ksp_view']\n",
        "        del petsc_options['ksp_monitor_true_residual']\n",
        "\n",
        "    ksp_S.setFromOptions()  # uses options set above, or default\n",
        "    ksp_S.setUp()\n",
        "\n",
        "    return ksp_S"
      ]
    },
    {
      "cell_type": "code",
      "execution_count": null,
      "id": "eee751f4",
      "metadata": {
        "id": "eee751f4"
      },
      "outputs": [],
      "source": [
        "uh, ph, mesh = ex1_solve(V, Q, ksp_A, B, ksp_S, F)"
      ]
    },
    {
      "cell_type": "code",
      "execution_count": null,
      "id": "88360922",
      "metadata": {
        "id": "88360922"
      },
      "outputs": [],
      "source": [
        "fig, ax = plt.subplots()\n",
        "col = tripcolor(ph, axes=ax)\n",
        "plt.colorbar(col)\n",
        "plt.title('pressure')\n",
        "fig, ax = plt.subplots()\n",
        "col = quiver(uh, axes=ax)\n",
        "plt.colorbar(col)\n",
        "plt.title('velocity')"
      ]
    },
    {
      "cell_type": "markdown",
      "id": "fb76042f",
      "metadata": {
        "id": "fb76042f"
      },
      "source": [
        "---\n",
        "---\n",
        "# Exercise 2\n",
        "## Solve unsteady Stokes problem by Schur-complement method and implicit Euler scheme."
      ]
    },
    {
      "cell_type": "markdown",
      "id": "7a241b5c",
      "metadata": {
        "id": "7a241b5c"
      },
      "source": []
    },
    {
      "cell_type": "markdown",
      "id": "7486ab81",
      "metadata": {
        "id": "7486ab81"
      },
      "source": [
        "### Unsteady cavity problem\n",
        "\n",
        "\\begin{equation*}\n",
        "\\begin{cases}\n",
        "\\frac{\\partial\\boldsymbol{u}}{\\partial t} - \\Delta \\boldsymbol{u} + \\nabla  p  = \\boldsymbol{0} & {\\rm in} \\ \\Omega=(0,1)^2\n",
        "\\quad\\forall t\\in(0,1), \\\\\n",
        "{\\rm div}\\,\\boldsymbol{u} = 0 & {\\rm in} \\ \\Omega\n",
        "\\quad\\forall t\\in(0,1), \\\\\n",
        "\\boldsymbol{u} = \\boldsymbol{g}_\\text{D} & {\\rm on} \\ \\Gamma_4 = (0,1)\\times\\{4\\}\n",
        "\\quad\\forall t\\in(0,1), \\\\\n",
        "\\boldsymbol{u} = \\boldsymbol{0} & {\\rm on} \\ \\partial\\Omega\\setminus\\Gamma_4\n",
        "\\quad\\forall t\\in(0,1), \\\\\n",
        "\\boldsymbol{u} = \\boldsymbol{0} & {\\rm in} \\ \\Omega,\n",
        "\\quad{\\rm for} \\ t=0,\n",
        "\\end{cases}\n",
        "\\end{equation*}\n",
        "\n",
        "with $\\boldsymbol{g}_\\text{D} = 1\\boldsymbol{i}$."
      ]
    },
    {
      "cell_type": "markdown",
      "id": "7cddc010",
      "metadata": {
        "id": "7cddc010"
      },
      "source": [
        "\n",
        "For the definition of the problem, variational forms, matrices, preconditioners, we use what has been already computed in Exercise 1 - point 4."
      ]
    },
    {
      "cell_type": "code",
      "execution_count": null,
      "id": "dd3fb78d",
      "metadata": {
        "id": "dd3fb78d"
      },
      "outputs": [],
      "source": [
        "def ex2_problem_assembly(n, dt):\n",
        "    # Algebraic system at each time step is\n",
        "    # [ (M+A)*U + B'*P = M*Uold + F\n",
        "    #   -B*U = 0 ]\n",
        "    # with A, B, F as in Exercise 1.\n",
        "    V, Q, ksp_A, B, F = ex1_problem_assembly(n)\n",
        "    u = TrialFunction(V)\n",
        "    v = TestFunction(V)\n",
        "    M = ...\n",
        "\n",
        "    # Define a new KSP solver associated to (M+A).\n",
        "    A, _ = ksp_A.getOperators()\n",
        "    ksp_MA = PETSc.KSP().create()\n",
        "    ksp_MA.setType('preonly')   # direct solver\n",
        "    ksp_MA.pc.setType('lu')\n",
        "    ksp_MA.setOperators( ... )\n",
        "    ksp_MA.setFromOptions()\n",
        "    ksp_MA.setUp()\n",
        "\n",
        "    return V, Q, ksp_MA, B, F\n",
        "\n"
      ]
    },
    {
      "cell_type": "code",
      "execution_count": null,
      "id": "c6751321",
      "metadata": {
        "id": "c6751321"
      },
      "outputs": [],
      "source": [
        "# Time parameters and initial condition.\n",
        "t0 = 0\n",
        "T = 1\n",
        "dt = 0.1\n",
        "u0 = interpolate(Constant((0., 0.)), V)\n",
        "\n",
        "# Create the correct Schur complement.\n",
        "V, Q, ksp_MA, B, F = ...\n",
        "ksp_S = ...\n",
        "\n",
        "# Solve time-dependent problem.\n",
        "tmp_u_fun = Function(V)\n",
        "rhs_u_fun = Function(V)\n",
        "with u0.vector().dat.vec_wo as vecUold,\\\n",
        "     F.dat.vec_ro as vecF,\\\n",
        "     tmp_u_fun.vector().dat.vec_wo as tmp_u,\\\n",
        "     rhs_u_fun.vector().dat.vec_wo as rhs:\n",
        "\n",
        "    for t in np.arange(t0, T, dt):\n",
        "        vecF.copy(tmp_u)                # NB NOT tmp_u = vecF (would perform only shallow copy, i.e. reference to same object)\n",
        "        tmp_u *= t\n",
        "        M.multAdd(vecUold, tmp_u, rhs)  # rhs = M*vecUold + tmp_u\n",
        "\n",
        "        uh, ph, mesh = ...\n",
        "\n",
        "        # fig, ax = plt.subplots()\n",
        "        # col = tripcolor(ph, axes=ax)\n",
        "        # plt.colorbar(col)\n",
        "        # plt.title('pressure')\n",
        "        # fig, ax = plt.subplots()\n",
        "        # #triplot(mesh, axes=ax)\n",
        "        # col = quiver(uh, axes=ax)\n",
        "        # plt.colorbar(col)\n",
        "        # plt.title('velocity')\n",
        "\n",
        "        u0 = uh\n"
      ]
    }
  ],
  "metadata": {
    "colab": {
      "private_outputs": true,
      "provenance": [],
      "include_colab_link": true
    },
    "kernelspec": {
      "display_name": "Python 3 (ipykernel)",
      "language": "python",
      "name": "python3"
    },
    "language_info": {
      "codemirror_mode": {
        "name": "ipython",
        "version": 3
      },
      "file_extension": ".py",
      "mimetype": "text/x-python",
      "name": "python",
      "nbconvert_exporter": "python",
      "pygments_lexer": "ipython3",
      "version": "3.10.12"
    }
  },
  "nbformat": 4,
  "nbformat_minor": 5
}