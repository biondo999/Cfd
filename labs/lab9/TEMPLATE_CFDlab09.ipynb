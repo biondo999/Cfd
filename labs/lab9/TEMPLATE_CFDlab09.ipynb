{
  "cells": [
    {
      "cell_type": "code",
      "execution_count": null,
      "id": "3S6xPouYEYrq",
      "metadata": {
        "id": "3S6xPouYEYrq"
      },
      "outputs": [],
      "source": [
        "try:\n",
        "    import firedrake\n",
        "except ImportError:\n",
        "    !wget \"https://fem-on-colab.github.io/releases/firedrake-install-real.sh\" -O \"/tmp/firedrake-install.sh\" && bash \"/tmp/firedrake-install.sh\"\n",
        "    import firedrake"
      ]
    },
    {
      "cell_type": "code",
      "execution_count": null,
      "metadata": {},
      "outputs": [],
      "source": [
        "from google.colab import drive\n",
        "drive.mount('/content/drive')"
      ]
    },
    {
      "cell_type": "code",
      "execution_count": null,
      "metadata": {},
      "outputs": [],
      "source": [
        "from firedrake import *\n",
        "import matplotlib.pyplot as plt\n",
        "import numpy as np\n",
        "\n",
        "from firedrake.petsc import PETSc"
      ]
    },
    {
      "cell_type": "code",
      "execution_count": null,
      "metadata": {},
      "outputs": [],
      "source": [
        "# Get current path: all relative paths that you may use for input/output start from here.\n",
        "#\n",
        "# - Colab:  The default path is /content, and your GDrive folder is accessible (if mounted) at /content/drive/MyDrive\n",
        "#\n",
        "# - local:  If running on your local machine, current_path is the position WHERE YOU LAUNCHED THE NOTEBOOK KERNEL BY 'jupyter notebook'\n",
        "#           and NOT the directory in which this ipynb file is saved.\n",
        "#           If you want to modify your current path, go to the terminal, stop the kernel (ctrl-C + press y), then move to the desired path by\n",
        "#           cd my/desired/path/starting/from/here\n",
        "#           and then launch 'jupyter notebook'.\n",
        "import os\n",
        "current_path = os.getcwd()\n",
        "print(current_path)\n",
        "\n",
        "# my_io_path = '/content/drive/MyDrive/Colab Notebooks/CFD2324/'\n",
        "my_io_path = current_path+\"/\"\n",
        "print(my_io_path)"
      ]
    },
    {
      "cell_type": "markdown",
      "metadata": {},
      "source": [
        "---\n",
        "---\n",
        "# Exercise 1 - Chorin-Temam projection method"
      ]
    },
    {
      "attachments": {},
      "cell_type": "markdown",
      "id": "54e25927",
      "metadata": {
        "id": "54e25927"
      },
      "source": [
        "\\begin{equation*}\n",
        "\\begin{cases}\n",
        "\\frac{\\partial  \\boldsymbol{u}}{\\partial t}- \\Delta \\boldsymbol{u} + ( \\boldsymbol{u}\\cdot \\nabla)  \\boldsymbol{u}+ \\nabla  p  = \\boldsymbol{0} & {\\rm in} \\ \\Omega, t\\in(0,T),\\\\\n",
        "\\nabla \\cdot \\boldsymbol{u} = 0 & {\\rm in} \\ \\Omega, t\\in(0,T), \\\\\n",
        "\\boldsymbol{u} = \\boldsymbol{u}_\\text{in} & {\\rm on} \\ \\Gamma_{\\rm{in}}, t\\in(0,T),\\\\\n",
        "\\sigma(\\boldsymbol{u},p)\\boldsymbol{n} = h_\\text{out}\\boldsymbol{n} & {\\rm on} \\ \\Gamma_{\\rm{out}}, t\\in(0,T), \\\\\n",
        "\\boldsymbol{u} = \\boldsymbol{0} & {\\rm on} \\ \\partial\\Omega\\setminus(\\Gamma_\\text{in}\\cup\\Gamma_\\text{out}), t\\in(0,T),\\\\\n",
        "\\boldsymbol{u}|_{t=0} = \\boldsymbol{u}_\\text{Stokes} & {\\rm in} \\ \\Omega, t=0\n",
        "\\end{cases}\n",
        "\\end{equation*}"
      ]
    },
    {
      "cell_type": "code",
      "execution_count": null,
      "id": "9087971a",
      "metadata": {
        "id": "9087971a"
      },
      "outputs": [],
      "source": [
        "# Import mesh: set the path correctly!\n",
        "mesh = Mesh(my_io_path+'meshes/cylinder-ns.msh')\n",
        "fig, ax = plt.subplots()\n",
        "triplot(mesh, axes=ax)\n",
        "ax.legend(loc='upper left')"
      ]
    },
    {
      "cell_type": "markdown",
      "metadata": {},
      "source": [
        "### Variational forms for incremental Chorin-Temam steps"
      ]
    },
    {
      "cell_type": "code",
      "execution_count": null,
      "metadata": {},
      "outputs": [],
      "source": [
        "# Forms for step 1\n",
        "# u, v          : trial and test function for the predictor problem\n",
        "# u_old, p_old  : solution from previous time step\n",
        "def predictor_forms(u, v, Re, dt, u_old, p_old, neumann_data, neumann_tag):\n",
        "    ...\n",
        "    return a, L\n",
        "\n",
        "# Forms for step 2 (incremental)\n",
        "# dp, q         : trial and test function for the (incremental) pressure problem\n",
        "# u_tilde       : solution of predictor problem\n",
        "def pressure_forms(dp, q, dt, u_tilde):\n",
        "    ...\n",
        "    return a, L\n",
        "\n",
        "# Forms for step 3: uh and grad(ph) belong to different FE spaces\n",
        "# u, v          : trial and test function for the predictor problem\n",
        "# u_tilde       : solution of predictor problem\n",
        "# dp            : solution of (incremental) pressure problem\n",
        "def projection_forms(u, v, u_tilde, dp, dt):\n",
        "    ...\n",
        "    return a, L"
      ]
    },
    {
      "cell_type": "markdown",
      "metadata": {},
      "source": [
        "### FE spaces, data, BCs"
      ]
    },
    {
      "cell_type": "code",
      "execution_count": null,
      "metadata": {},
      "outputs": [],
      "source": [
        "# Function spaces (separated: no MixedFunctionSpace needed)\n",
        "# The bubble enrichment of the velocity space has to be done at the finite element level\n",
        "\n",
        "...\n",
        "\n",
        "# Data\n",
        "Re = 200\n",
        "f = Constant((0., 0.))\n",
        "t = 0\n",
        "T = 50\n",
        "dt = 0.5\n",
        "\n",
        "x = SpatialCoordinate(mesh)\n",
        "\n",
        "# Boundary conditions - velocity\n",
        "bcsU = ( ... )\n",
        "\n",
        "# Boundary conditions - pressure\n",
        "bcsP = ( ... )"
      ]
    },
    {
      "cell_type": "markdown",
      "metadata": {},
      "source": [
        "### Initial condition"
      ]
    },
    {
      "cell_type": "code",
      "execution_count": null,
      "metadata": {},
      "outputs": [],
      "source": [
        "W = MixedFunctionSpace([V, Q])  # only for Stokes problem\n",
        "uu, pp = TrialFunctions(W)\n",
        "vv, qq = TestFunctions(W)\n",
        "\n",
        "# Stokes problem\n",
        "a_init = ...\n",
        "... # suggestion: use a suffix (e.g. _init) in all variables related to the\n",
        "... # solution of the initialization problem, to avoid name clash with other\n",
        "... # variables you may define afterwards\n",
        "...\n",
        "# the initial condition should be stored in uh_init, ph_init\n",
        "\n",
        "# Functions on separated space, for C-T scheme\n",
        "uh_old = Function(V)\n",
        "ph_old = Function(Q)\n",
        "uh_old.assign(uh_init)\n",
        "ph_old.assign(ph_init)"
      ]
    },
    {
      "cell_type": "markdown",
      "metadata": {},
      "source": [
        "### Post-processing"
      ]
    },
    {
      "cell_type": "code",
      "execution_count": null,
      "metadata": {},
      "outputs": [],
      "source": [
        "fig, ax = plt.subplots()\n",
        "col = tripcolor(ph_old, axes=ax)\n",
        "plt.colorbar(col)\n",
        "plt.title('Initial pressure')\n",
        "\n",
        "fig, ax = plt.subplots()\n",
        "col = quiver(uh_old, axes=ax)\n",
        "plt.colorbar(col)\n",
        "plt.title('Initial velocity')\n",
        "\n",
        "# vtk output for Paraview\n",
        "basename = 'lab09_'\n",
        "outfileU = File(my_io_path+\"output/\"+basename+\"velocity.pvd\")\n",
        "outfileP = File(my_io_path+\"output/\"+basename+\"pressure.pvd\")\n",
        "uh_old.rename(\"Velocity\")   # this names will be used in Paraview\n",
        "ph_old.rename(\"Pressure\")\n",
        "outfileU.write(uh_old)\n",
        "outfileP.write(ph_old)"
      ]
    },
    {
      "cell_type": "markdown",
      "metadata": {},
      "source": [
        "### Definition of steps\n",
        "Definition of `LinearVariationalProblem`s and `LinearVariationalSolver`s for all C-T steps."
      ]
    },
    {
      "cell_type": "code",
      "execution_count": null,
      "metadata": {},
      "outputs": [],
      "source": [
        "# For variational problems\n",
        "u = TrialFunction(V)\n",
        "v = TestFunction(V)\n",
        "dp = TrialFunction(Q)   # incremental\n",
        "q = TestFunction(Q)\n",
        "\n",
        "# Actual solution\n",
        "uh = Function(V)\n",
        "dph = Function(Q)       # incremental\n",
        "\n",
        "# Step 1\n",
        "...\n",
        "\n",
        "# Step 2\n",
        "...\n",
        "\n",
        "# Step 3\n",
        "..."
      ]
    },
    {
      "cell_type": "markdown",
      "metadata": {},
      "source": [
        "### Time-dependent solution"
      ]
    },
    {
      "cell_type": "code",
      "execution_count": null,
      "metadata": {},
      "outputs": [],
      "source": [
        "t_vec = np.arange(0, T+0.1*dt, dt)  # T+0.1*dt to include also T: range/arange exclude the upper bound of the range\n",
        "for ii in range(1, len(t_vec)):     # start from 1 to skip t=0\n",
        "    t = t_vec[ii]\n",
        "    print('t =', t)\n",
        "    print('||u||_{H^1} =', norm(uh_old,'H1'), '  ||p||_{L^2} =', norm(ph_old,'L2')) # to check the solution is not blowing up\n",
        "\n",
        "    ... solve steps ...\n",
        "\n",
        "    uh_old.assign(uh)\n",
        "    ph_old.vector().dat += dph.vector().dat\n",
        "\n",
        "    # Post-processing\n",
        "    outfileU.write(uh_old, time=t)\n",
        "    outfileP.write(ph_old, time=t)"
      ]
    }
  ],
  "metadata": {
    "colab": {
      "private_outputs": true,
      "provenance": []
    },
    "kernelspec": {
      "display_name": "Python 3 (ipykernel)",
      "language": "python",
      "name": "python3"
    },
    "language_info": {
      "codemirror_mode": {
        "name": "ipython",
        "version": 3
      },
      "file_extension": ".py",
      "mimetype": "text/x-python",
      "name": "python",
      "nbconvert_exporter": "python",
      "pygments_lexer": "ipython3",
      "version": "3.10.12"
    }
  },
  "nbformat": 4,
  "nbformat_minor": 5
}
