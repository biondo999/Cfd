{
  "cells": [
    {
      "cell_type": "code",
      "execution_count": null,
      "id": "3S6xPouYEYrq",
      "metadata": {
        "id": "3S6xPouYEYrq"
      },
      "outputs": [],
      "source": [
        "try:\n",
        "    import firedrake\n",
        "except ImportError:\n",
        "    !wget \"https://fem-on-colab.github.io/releases/firedrake-install-real.sh\" -O \"/tmp/firedrake-install.sh\" && bash \"/tmp/firedrake-install.sh\"\n",
        "    import firedrake\n",
        "\n",
        "\n",
        "\n",
        "import warnings\n",
        "warnings.filterwarnings('ignore')"
      ]
    },
    {
      "cell_type": "code",
      "execution_count": null,
      "id": "GoZ-yCJ-JNIe",
      "metadata": {
        "id": "GoZ-yCJ-JNIe"
      },
      "outputs": [],
      "source": [
        "from google.colab import drive\n",
        "drive.mount('/content/drive')"
      ]
    },
    {
      "cell_type": "code",
      "execution_count": null,
      "id": "0Zf-PF6eYduS",
      "metadata": {
        "id": "0Zf-PF6eYduS"
      },
      "outputs": [],
      "source": [
        "from firedrake import *\n",
        "import matplotlib.pyplot as plt\n",
        "import numpy as np\n",
        "\n",
        "from firedrake.petsc import PETSc"
      ]
    },
    {
      "cell_type": "code",
      "execution_count": null,
      "id": "960418a8",
      "metadata": {
        "id": "960418a8"
      },
      "outputs": [],
      "source": [
        "# Get current path: all relative paths that you may use for input/output start from here.\n",
        "#\n",
        "# - Colab:  The default path is /content, and your GDrive folder is accessible (if mounted) at /content/drive/MyDrive\n",
        "#\n",
        "# - local:  If running on your local machine, current_path is the position WHERE YOU LAUNCHED THE NOTEBOOK KERNEL BY 'jupyter notebook'\n",
        "#           and NOT the directory in which this ipynb file is saved.\n",
        "#           If you want to modify your current path, go to the terminal, stop the kernel (ctrl-C + press y), then move to the desired path by\n",
        "#           cd my/desired/path/starting/from/here\n",
        "#           and then launch 'jupyter notebook'.\n",
        "import os\n",
        "current_path = os.getcwd()\n",
        "print(current_path)\n",
        "\n",
        "# my_io_path = '/content/drive/MyDrive/Colab Notebooks/CFD2324/'\n",
        "my_io_path = current_path+\"/\"\n",
        "print(my_io_path)"
      ]
    },
    {
      "cell_type": "markdown",
      "id": "54cfcfe4",
      "metadata": {
        "id": "54cfcfe4"
      },
      "source": [
        "---\n",
        "---\n",
        "# Exercise 1"
      ]
    },
    {
      "cell_type": "markdown",
      "id": "54e25927",
      "metadata": {
        "id": "54e25927"
      },
      "source": [
        "\\begin{equation*}\n",
        "\\begin{cases}\n",
        "(\\boldsymbol{u}\\cdot\\nabla)\\boldsymbol{u} - \\frac{1}{\\rm Re}\\Delta \\boldsymbol{u} + \\nabla  p  = \\boldsymbol{0} & {\\rm in} \\ \\Omega, \\\\\n",
        "{\\rm div}\\,\\boldsymbol{u} = 0 & {\\rm in} \\ \\Omega, \\\\\n",
        "\\boldsymbol{u} = \\boldsymbol{i} & {\\rm on} \\ \\Gamma_{\\rm up}, \\\\\n",
        "\\boldsymbol{u} = \\boldsymbol{0} & {\\rm on}\\ \\Gamma_{\\rm wall}=\\partial\\Omega\\setminus\\Gamma_{\\rm up}, \\\\\n",
        "\\end{cases}\n",
        "\\end{equation*}"
      ]
    },
    {
      "cell_type": "code",
      "execution_count": null,
      "id": "a5fc2e50",
      "metadata": {
        "id": "a5fc2e50"
      },
      "outputs": [],
      "source": [
        "# Build the mesh\n",
        "n = 30\n",
        "mesh = UnitSquareMesh(n, n, diagonal='crossed')\n",
        "\n",
        "fig, ax = plt.subplots()\n",
        "triplot(mesh, axes=ax)\n",
        "ax.legend()"
      ]
    },
    {
      "cell_type": "code",
      "execution_count": null,
      "id": "f43293fe",
      "metadata": {
        "id": "f43293fe"
      },
      "outputs": [],
      "source": [
        "# Function spaces (mixed formulation)\n",
        "V = VectorFunctionSpace(mesh, 'P', 1)\n",
        "Q = FunctionSpace(mesh, 'P', 1)\n",
        "W = MixedFunctionSpace([V, Q])\n",
        "\n",
        "nullsp=MixedVectorSpaceBasis(W,[W.sub(0),VectorSpaceBasis(constant=True)])\n",
        "\n",
        "# Data and boundary conditions\n",
        "Re = 30.0\n",
        "f = Constant((0.,0.))\n",
        "x = SpatialCoordinate(mesh)\n",
        "\n",
        "\n",
        "bc_wall= DirichletBC(W.sub(0),Constant((0.,0.)), (1,2,3))\n",
        "bc_in=DirichletBC(W.sub(0),Constant((1.0,0.0)),(4))\n",
        "#double parent\n",
        "\n",
        "bcs = (bc_in,bc_wall)\n",
        "\n"
      ]
    },
    {
      "cell_type": "markdown",
      "id": "c72121a0",
      "metadata": {
        "id": "c72121a0"
      },
      "source": [
        "### Variational problems"
      ]
    },
    {
      "cell_type": "code",
      "execution_count": null,
      "id": "a3e8344b",
      "metadata": {
        "id": "a3e8344b"
      },
      "outputs": [],
      "source": [
        "u, p = TrialFunctions(W)\n",
        "v, q = TestFunctions(W)\n",
        "\n",
        "def nonlinear_iteration_forms(u, v, p, q, Re, f, u_old):\n",
        "    # Newton iteration\n",
        "    a_Newton = (1.0/Re)*inner(grad(u),grad(v))*dx   +   dot(dot(grad(u),u_old),v)*dx  +dot(dot(grad(u_old),u),v)*dx  -p*div(v)*dx +q*div(u)*dx  +0.5 *div(u)*inner(u_old,v)*dx +0.5 *div(u_old)*inner(u,v)*dx\n",
        "\n",
        "    L_Newton = +inner(f,v)*dx +dot(dot(grad(u_old),u_old),v)*dx +0.5 *div(u_old)*inner(u_old,v)*dx\n",
        "\n",
        "    return a_Newton, L_Newton\n",
        "\n",
        "\n",
        "def supg_forms(u, v, p, q, Re, f, u_old, mesh,delta):\n",
        "\n",
        "    ubar=Function(Functionspace(mesh,'DG',0))\n",
        "\n",
        "\n",
        "    ubar.project(sqrt(inner(u_old,u_old)))\n",
        "    h=CellDiameter(mesh)\n",
        "\n",
        "    Re_k=h*ubar*Re\n",
        "    one=Constant(1.0)\n",
        "\n",
        "    delta_K=h/(ubar+1e-15) *conditional((gt(Re_k,one),one,Re_k))  #c++ ? operator\n",
        "\n",
        "\n",
        "    delta_k=Function(FunctionSpace(u_old.function_space().mesh(),'DG',0)) #piece wise linear function\n",
        "\n",
        "\n",
        "\n",
        "    lhs_supg=delta_k*dot(div(u),div(v))*dx\n",
        "    rhs_supg=delta_k *dx\n",
        "\n",
        "\n",
        "\n",
        "\n",
        "\n"
      ]
    },
    {
      "cell_type": "markdown",
      "id": "b771dd2e",
      "metadata": {
        "id": "b771dd2e"
      },
      "source": [
        "### Initialization and definition of the ***linear*** solver for each nonlinear iteration."
      ]
    },
    {
      "cell_type": "code",
      "execution_count": null,
      "id": "aa67b76b",
      "metadata": {
        "id": "aa67b76b"
      },
      "outputs": [],
      "source": [
        "# Initialization (wh = 0)\n",
        "wh= Function(W)\n",
        "uh, ph = wh.subfunctions\n",
        "\n",
        "# vtk output for Paraview\n",
        "basename = 'lab08_ex1_'\n",
        "outfileU = File(my_io_path+\"output/\"+basename+\"velocity.pvd\")\n",
        "outfileP = File(my_io_path+\"output/\"+basename+\"pressure.pvd\")\n",
        "uh.rename(\"Velocity\")   # this name will be used in Paraview\n",
        "ph.rename(\"Pressure\")   # this name will be used in Paraview\n",
        "outfileU.write(uh)\n",
        "outfileP.write(ph)\n",
        "\n",
        "# Nonlinear solver\n",
        "u_old = Function(V)\n",
        "u_old.assign(uh)    # copy the dof's of uh (defined over W) into u_old (defined over V)\n",
        "                    # Do not use 'u_old = uh', which would yield a \"shallow copy\", by which\n",
        "                    # u_old would contain a sort of pointer to uh: in such case, any update of uh\n",
        "                    # would immediately reflect on u_old, whilst we want to keep the two functions\n",
        "                    # separate from one another, and update them only when actually intended.\n",
        "p_old = Function(Q)\n",
        "p_old.assign(ph)\n",
        "\n",
        "a, L = nonlinear_iteration_forms(u, v, p, q, Re, f, u_old)"
      ]
    },
    {
      "cell_type": "markdown",
      "id": "2033d138",
      "metadata": {
        "id": "2033d138"
      },
      "source": [
        "### Iterative algorithm for the solution of the nonlinear problem"
      ]
    },
    {
      "cell_type": "code",
      "execution_count": null,
      "id": "e3897f64",
      "metadata": {
        "id": "e3897f64"
      },
      "outputs": [],
      "source": [
        "maxit = 100\n",
        "it = 0\n",
        "tol = 1e-4\n",
        "err = tol+1     # >tol in order to enter the loop at the beginning\n",
        "\n",
        "while it <= maxit and err > tol:\n",
        "\n",
        "    it += 1\n",
        "\n",
        "    param={'ksp_type':'preonly','ksp_pc_type' :'mumps'}\n",
        "\n",
        "    pb=LinearVariationalProblem(a,L,wh,nullsp,bcs=bcs)\n",
        "\n",
        "    solver=LinearVariationalSolver(pb,solver_parameters=param)\n",
        "\n",
        "    solver.solve()\n",
        "\n",
        "    uh, ph = wh.subfunctions\n",
        "\n",
        "    err = (errornorm(uh, u_old, 'H1') / norm(u_old, 'H1') +\n",
        "           errornorm(ph, p_old, 'L2') / norm(p_old, 'L2'))\n",
        "\n",
        "    print(\"Iteration = \", it, \" Error = \", err)\n",
        "    uh.rename(\"Velocity\")\n",
        "    ph.rename(\"Pressure\")\n",
        "    outfileU.write(uh)\n",
        "    outfileP.write(ph)\n",
        "\n",
        "    u_old.assign(uh) # update the old solution\n",
        "    p_old.assign(ph) # update the old solution\n",
        "\n",
        "if it <= maxit\n",
        "    print('Nonlinear solver converged in', it, 'iterations.')\n",
        "else:\n",
        "    print('Nonlinear solver did NOT converge!\\nRelative error =', err, 'after', it, 'iterations.')"
      ]
    },
    {
      "cell_type": "code",
      "execution_count": null,
      "id": "3dbf1d0e",
      "metadata": {
        "id": "3dbf1d0e"
      },
      "outputs": [],
      "source": [
        "fig, ax = plt.subplots()\n",
        "col = tripcolor(ph, axes=ax)\n",
        "plt.colorbar(col)\n",
        "plt.title('pressure')\n",
        "fig, ax = plt.subplots()\n",
        "col = quiver(uh, axes=ax)\n",
        "plt.colorbar(col)\n",
        "plt.title('velocity')"
      ]
    },
    {
      "cell_type": "code",
      "execution_count": null,
      "id": "uMl60G0iyr1t",
      "metadata": {
        "id": "uMl60G0iyr1t"
      },
      "outputs": [],
      "source": [
        "#ex3\n"
      ]
    },
    {
      "cell_type": "code",
      "execution_count": null,
      "id": "NnBC4-AMytPr",
      "metadata": {
        "id": "NnBC4-AMytPr"
      },
      "outputs": [],
      "source": [
        "n = 30\n",
        "mesh =RectangleMesh(3*n, n, 3, 1)\n",
        "\n",
        "fig, ax = plt.subplots()\n",
        "triplot(mesh, axes=ax)\n",
        "ax.legend()"
      ]
    },
    {
      "cell_type": "code",
      "execution_count": null,
      "id": "jxfGoVTGzfsV",
      "metadata": {
        "id": "jxfGoVTGzfsV"
      },
      "outputs": [],
      "source": [
        "# Function spaces (mixed formulation)\n",
        "V = VectorFunctionSpace(mesh, 'P', 2)\n",
        "Q = FunctionSpace(mesh, 'P', 1)\n",
        "\n",
        "\n",
        "W = MixedFunctionSpace([V, Q])\n",
        "\n",
        "\n",
        "u, p = TrialFunctions(W)\n",
        "v, q = TestFunctions(W)\n",
        "\n",
        "\n",
        "# Data and boundary conditions\n",
        "Re = 30.0\n",
        "f = Constant((0.,0.))\n",
        "x = SpatialCoordinate(mesh)\n",
        "\n",
        "u_in = (6*x[1]*(1-x[1]), 0.)\n",
        "\n",
        "\n",
        "bc_top= DirichletBC(W.sub(0).sub(1),Constant(0.,0.), (4))\n",
        "\n",
        "bc_bottom=DirichletBC(W.sub(0),Constant((0.0,0.0)),(3))\n",
        "\n",
        "#bc_right=DirichletBC(W.sub(0),Constant((0.0,0.0)),(3))\n",
        "\n",
        "bc_left=DirichletBC(W.sub(0),u_in,(1))\n",
        "\n",
        "#double parent\n",
        "\n",
        "bcs = (bc_left,bc_top,bc_bottom)\n",
        "\n"
      ]
    },
    {
      "cell_type": "code",
      "execution_count": null,
      "id": "Dng-iNEG0lFP",
      "metadata": {
        "id": "Dng-iNEG0lFP"
      },
      "outputs": [],
      "source": [
        "    a = (1.0/Re)*inner(grad(u),grad(v))*dx   +   dot(dot(grad(u),u),v)*dx  +dot(dot(grad(u),u),v)*dx  -p*div(v)*dx +q*div(u)*dx\n",
        "\n",
        "    L=0"
      ]
    },
    {
      "cell_type": "code",
      "execution_count": null,
      "id": "HJAxhkvq1pdV",
      "metadata": {
        "id": "HJAxhkvq1pdV"
      },
      "outputs": [],
      "source": [
        "wh= Function(W)\n",
        "uh, ph = wh.subfunctions"
      ]
    },
    {
      "cell_type": "code",
      "execution_count": null,
      "id": "TFfhPoKb2vya",
      "metadata": {
        "id": "TFfhPoKb2vya"
      },
      "outputs": [],
      "source": [
        "  param={'ksp_type':'preonly','ksp_pc_type' :'mumps'}\n",
        "\n",
        "  pb=NonlinearVariationalProblem(a,L,wh,bcs=bcs)\n",
        "\n",
        "  solver=NonLinearVariationalSolver(pb,solver_parameters=param)\n",
        "\n",
        "  solver.solve()\n",
        "\n",
        "  uh, ph = wh.subfunctions\n",
        "\n"
      ]
    }
  ],
  "metadata": {
    "colab": {
      "private_outputs": true,
      "provenance": []
    },
    "kernelspec": {
      "display_name": "Python 3 (ipykernel)",
      "language": "python",
      "name": "python3"
    },
    "language_info": {
      "codemirror_mode": {
        "name": "ipython",
        "version": 3
      },
      "file_extension": ".py",
      "mimetype": "text/x-python",
      "name": "python",
      "nbconvert_exporter": "python",
      "pygments_lexer": "ipython3",
      "version": "3.10.12"
    }
  },
  "nbformat": 4,
  "nbformat_minor": 5
}
