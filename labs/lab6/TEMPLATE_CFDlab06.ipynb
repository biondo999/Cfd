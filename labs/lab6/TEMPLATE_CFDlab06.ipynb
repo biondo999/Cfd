{
  "cells": [
    {
      "cell_type": "code",
      "execution_count": null,
      "id": "3S6xPouYEYrq",
      "metadata": {
        "id": "3S6xPouYEYrq"
      },
      "outputs": [],
      "source": [
        "try:\n",
        "    import firedrake\n",
        "except ImportError:\n",
        "    !wget \"https://fem-on-colab.github.io/releases/firedrake-install-real.sh\" -O \"/tmp/firedrake-install.sh\" && bash \"/tmp/firedrake-install.sh\"\n",
        "    import firedrake"
      ]
    },
    {
      "cell_type": "code",
      "execution_count": null,
      "id": "GoZ-yCJ-JNIe",
      "metadata": {
        "id": "GoZ-yCJ-JNIe"
      },
      "outputs": [],
      "source": [
        "from google.colab import drive\n",
        "drive.mount('/content/drive')"
      ]
    },
    {
      "cell_type": "code",
      "execution_count": null,
      "id": "0Zf-PF6eYduS",
      "metadata": {
        "id": "0Zf-PF6eYduS"
      },
      "outputs": [],
      "source": [
        "from firedrake import *\n",
        "import matplotlib.pyplot as plt\n",
        "import numpy as np\n",
        "\n",
        "from firedrake.petsc import PETSc"
      ]
    },
    {
      "cell_type": "code",
      "execution_count": null,
      "id": "960418a8",
      "metadata": {},
      "outputs": [],
      "source": [
        "# Get current path: all relative paths that you may use for input/output start from here.\n",
        "#\n",
        "# - Colab:  The default path is /content, and your GDrive folder is accessible (if mounted) at /content/drive/MyDrive\n",
        "#\n",
        "# - local:  If running on your local machine, current_path is the position WHERE YOU LAUNCHED THE NOTEBOOK KERNEL BY 'jupyter notebook'\n",
        "#           and NOT the directory in which this ipynb file is saved.\n",
        "#           If you want to modify your current path, go to the terminal, stop the kernel (ctrl-C + press y), then move to the desired path by\n",
        "#           cd my/desired/path/starting/from/here\n",
        "#           and then launch 'jupyter notebook'.\n",
        "import os\n",
        "current_path = os.getcwd()\n",
        "print(current_path)"
      ]
    },
    {
      "cell_type": "markdown",
      "id": "54cfcfe4",
      "metadata": {},
      "source": [
        "---\n",
        "---\n",
        "# Exercise 1\n",
        "## Solve nonlinear, steady Navier-Stokes problem."
      ]
    },
    {
      "cell_type": "markdown",
      "id": "54e25927",
      "metadata": {
        "id": "54e25927"
      },
      "source": [
        "\\begin{equation*}\n",
        "\\begin{cases}\n",
        "(\\boldsymbol{u}\\cdot\\nabla)\\boldsymbol{u} - \\nu\\Delta \\boldsymbol{u} + \\nabla  p  = \\boldsymbol{0} & {\\rm in} \\ \\Omega, \\\\\n",
        "{\\rm div}\\,\\boldsymbol{u} = 0 & {\\rm in} \\ \\Omega, \\\\\n",
        "\\boldsymbol{u} = 4y(1-y)\\boldsymbol{i} & {\\rm on} \\ \\Gamma_{\\rm in}, \\\\\n",
        "(\\nu\\nabla\\boldsymbol{u} - pI)\\boldsymbol{n} = \\boldsymbol{0} & {\\rm on} \\ \\Gamma_{\\rm out}, \\\\\n",
        "\\boldsymbol{u} = \\boldsymbol{0} & {\\rm on} \\ \\Gamma_{\\rm wall}=\\partial\\Omega\\setminus(\\Gamma_{\\rm in}\\cup\\Gamma_{\\rm out}). \\\\\n",
        "\\end{cases}\n",
        "\\end{equation*}"
      ]
    },
    {
      "cell_type": "code",
      "execution_count": null,
      "id": "a5fc2e50",
      "metadata": {},
      "outputs": [],
      "source": [
        "# Import mesh: set the path correctly!\n",
        "# See cell before Exercise 1 about current path.\n",
        "mesh = Mesh('meshes/elbow2.msh')\n",
        "fig, ax = plt.subplots()\n",
        "triplot(mesh, axes=ax)\n",
        "ax.legend(loc='upper left')"
      ]
    },
    {
      "cell_type": "code",
      "execution_count": null,
      "id": "f43293fe",
      "metadata": {},
      "outputs": [],
      "source": [
        "# Function spaces (mixed formulation)\n",
        "...\n",
        "\n",
        "# Data and boundary conditions\n",
        "nu = 0.01\n",
        "f = Constant((0.,0.))\n",
        "x = SpatialCoordinate(mesh)\n",
        "u_in = (4*x[1]*(1-x[1]), 0.)\n",
        "\n",
        "...\n",
        "\n",
        "bcs = (bc_wall, bc_in)"
      ]
    },
    {
      "cell_type": "markdown",
      "id": "c72121a0",
      "metadata": {},
      "source": [
        "### Variational problems"
      ]
    },
    {
      "cell_type": "code",
      "execution_count": null,
      "id": "a3e8344b",
      "metadata": {},
      "outputs": [],
      "source": [
        "u, p = TrialFunctions(W)\n",
        "v, q = TestFunctions(W)\n",
        "\n",
        "def initialization_problem_forms(u, v, p, q, nu, f):\n",
        "    # Stokes initialization\n",
        "    a_stokes = ...\n",
        "    L_stokes = ...\n",
        "    return a_stokes, L_stokes\n",
        "\n",
        "def nonlinear_iteration_forms(u, v, p, q, nu, f, u_old):\n",
        "    # Fixed-point iteration\n",
        "    a_fp = ...\n",
        "    L_fp = ...\n",
        "    return a_fp, L_fp"
      ]
    },
    {
      "cell_type": "markdown",
      "id": "b771dd2e",
      "metadata": {},
      "source": [
        "### Initialization and definition of the ***linear*** solver for each nonlinear iteration."
      ]
    },
    {
      "cell_type": "code",
      "execution_count": null,
      "id": "aa67b76b",
      "metadata": {},
      "outputs": [],
      "source": [
        "# Initialization solver\n",
        "wh_init = Function(W)\n",
        "a_init, L_init = initialization_problem_forms(u, v, p, q, nu, f)\n",
        "init_problem = LinearVariationalProblem( ... )\n",
        "param = {'ksp_type': 'gmres', 'pc_type': 'bjacobi', 'sub_pc_type': 'ilu'}\n",
        "solver_init =  LinearVariationalSolver( ... )\n",
        "\n",
        "# Actual initialization\n",
        "...\n",
        "uh, ph = ...\n",
        "\n",
        "# Plot of initial guess (Stokes solution)\n",
        "fig, ax = plt.subplots()\n",
        "col = tripcolor(ph, axes=ax)\n",
        "plt.colorbar(col)\n",
        "plt.title('pressure')\n",
        "fig, ax = plt.subplots()\n",
        "col = quiver(uh, axes=ax)\n",
        "plt.colorbar(col)\n",
        "plt.title('velocity')\n",
        "\n",
        "# vtk output for Paraview\n",
        "outfileU = File(\"output/velocity.pvd\")\n",
        "outfileP = File(\"output/pressure.pvd\")\n",
        "uh.rename(\"Velocity\")   # this name will be used in Paraview\n",
        "ph.rename(\"Pressure\")   # this name will be used in Paraview\n",
        "outfileU.write(uh)\n",
        "outfileP.write(ph)\n",
        "\n",
        "# Nonlinear solver\n",
        "u_old = Function(V)\n",
        "u_old.assign(uh)\n",
        "p_old = Function(Q)\n",
        "p_old.assign(ph)\n",
        "...\n",
        "problem = LinearVariationalProblem( ... )\n",
        "param = {'ksp_type': 'gmres', 'pc_type': 'bjacobi', 'sub_pc_type': 'ilu'}\n",
        "solver =  LinearVariationalSolver( ... )"
      ]
    },
    {
      "cell_type": "markdown",
      "id": "2033d138",
      "metadata": {},
      "source": [
        "### Iterative algorithm for the solution of the nonlinear problem"
      ]
    },
    {
      "cell_type": "code",
      "execution_count": null,
      "id": "e3897f64",
      "metadata": {},
      "outputs": [],
      "source": [
        "maxit = 100\n",
        "it = 0\n",
        "tol = 1e-3\n",
        "err = tol+1     # >tol in order to enter the loop at the beginning\n",
        "\n",
        "while it <= maxit and err > tol:\n",
        "    \n",
        "    it += 1\n",
        "\n",
        "    ... solve problem associated with one iteration ...\n",
        "    \n",
        "    err = ...\n",
        "    \n",
        "    print(\"Iteration = \", it, \" Error = \", err)\n",
        "    uh.rename(\"Velocity\")\n",
        "    ph.rename(\"Pressure\")\n",
        "    outfileU.write(uh)\n",
        "    outfileP.write(ph)\n",
        "\n",
        "    u_old.assign(uh) # update the old solution\n",
        "    p_old.assign(ph) # update the old solution\n",
        "\n",
        "if it <= maxit:\n",
        "    print('Nonlinear solver converged in', it, 'iterations.')\n",
        "else:\n",
        "    print('Nonlinear solver di NOT converge!\\nRelative error =', err, 'after', it, 'iterations.')"
      ]
    },
    {
      "cell_type": "markdown",
      "id": "3f340f8d",
      "metadata": {},
      "source": [
        "---\n",
        "---\n",
        "# Exercise 2\n",
        "## Solve nonlinear, steady Navier-Stokes and compute streamlines."
      ]
    },
    {
      "cell_type": "markdown",
      "id": "19147543",
      "metadata": {},
      "source": [
        "The differences with respect to Exercise 1 are in the mesh, viscosity, and boundary conditions."
      ]
    },
    {
      "cell_type": "code",
      "execution_count": null,
      "id": "282407e4",
      "metadata": {},
      "outputs": [],
      "source": [
        "# Import mesh: set the path correctly!\n",
        "# See cell before Exercise 1 about current path.\n",
        "mesh = ...\n",
        "fig, ax = plt.subplots()\n",
        "triplot(mesh, axes=ax)\n",
        "ax.legend(loc='upper left')\n",
        "\n",
        "# Function spaces\n",
        "...\n",
        "\n",
        "# Data and boundary conditions\n",
        "...\n",
        "bcs = ..."
      ]
    },
    {
      "cell_type": "markdown",
      "id": "736d5c4c",
      "metadata": {},
      "source": [
        "Then, the nonlinear problem and its iterative solution algorithm are the same as in Exercise 1: after the execution of the cell just above these, run all the cells of Exercise 1 starting with 'Variational problems'.\n"
      ]
    },
    {
      "cell_type": "markdown",
      "id": "9e7bad0f",
      "metadata": {},
      "source": [
        "\n",
        "Here we implement just the stream function problem and solution."
      ]
    },
    {
      "cell_type": "code",
      "execution_count": null,
      "id": "8da22bc1",
      "metadata": {},
      "outputs": [],
      "source": [
        "Z = ...\n",
        "psi = TrialFunction(Z)\n",
        "eta = TestFunction(Z)\n",
        "\n",
        "a_stream = ...\n",
        "# omega = Dx(uh.sub(1),0) - Dx(uh.sub(0),1)   # by components (UFL syntax)\n",
        "omega = rot(uh)                               # by pre-defined UFL command\n",
        "L_stream = ...\n",
        "\n",
        "bcs_stream = ...\n",
        "\n",
        "psi_h = Function(Z)\n",
        "... solve stream problem ...\n",
        "\n",
        "col = tricontour(psi_h)     # contour plot with no filling\n",
        "plt.colorbar(col)\n",
        "col = tricontourf(psi_h)    # contour plot with filled-in coloring\n",
        "plt.colorbar(col)"
      ]
    }
  ],
  "metadata": {
    "colab": {
      "private_outputs": true,
      "provenance": []
    },
    "kernelspec": {
      "display_name": "Python 3 (ipykernel)",
      "language": "python",
      "name": "python3"
    },
    "language_info": {
      "codemirror_mode": {
        "name": "ipython",
        "version": 3
      },
      "file_extension": ".py",
      "mimetype": "text/x-python",
      "name": "python",
      "nbconvert_exporter": "python",
      "pygments_lexer": "ipython3",
      "version": "3.10.12"
    }
  },
  "nbformat": 4,
  "nbformat_minor": 5
}
