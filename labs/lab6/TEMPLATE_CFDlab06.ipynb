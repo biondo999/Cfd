{
  "cells": [
    {
      "cell_type": "code",
      "execution_count": null,
      "id": "3S6xPouYEYrq",
      "metadata": {
        "id": "3S6xPouYEYrq"
      },
      "outputs": [],
      "source": [
        "try:\n",
        "    import firedrake\n",
        "except ImportError:\n",
        "    !wget \"https://fem-on-colab.github.io/releases/firedrake-install-real.sh\" -O \"/tmp/firedrake-install.sh\" && bash \"/tmp/firedrake-install.sh\"\n",
        "    import firedrake"
      ]
    },
    {
      "cell_type": "code",
      "execution_count": null,
      "id": "GoZ-yCJ-JNIe",
      "metadata": {
        "id": "GoZ-yCJ-JNIe"
      },
      "outputs": [],
      "source": [
        "from google.colab import drive\n",
        "drive.mount('/content/drive')"
      ]
    },
    {
      "cell_type": "code",
      "execution_count": null,
      "id": "0Zf-PF6eYduS",
      "metadata": {
        "id": "0Zf-PF6eYduS"
      },
      "outputs": [],
      "source": [
        "from firedrake import *\n",
        "import matplotlib.pyplot as plt\n",
        "import numpy as np\n",
        "\n",
        "from firedrake.petsc import PETSc"
      ]
    },
    {
      "cell_type": "code",
      "execution_count": null,
      "id": "960418a8",
      "metadata": {
        "id": "960418a8"
      },
      "outputs": [],
      "source": [
        "# Get current path: all relative paths that you may use for input/output start from here.\n",
        "#\n",
        "# - Colab:  The default path is /content, and your GDrive folder is accessible (if mounted) at /content/drive/MyDrive\n",
        "#\n",
        "# - local:  If running on your local machine, current_path is the position WHERE YOU LAUNCHED THE NOTEBOOK KERNEL BY 'jupyter notebook'\n",
        "#           and NOT the directory in which this ipynb file is saved.\n",
        "#           If you want to modify your current path, go to the terminal, stop the kernel (ctrl-C + press y), then move to the desired path by\n",
        "#           cd my/desired/path/starting/from/here\n",
        "#           and then launch 'jupyter notebook'.\n",
        "import os\n",
        "current_path = os.getcwd()\n",
        "print(current_path)"
      ]
    },
    {
      "cell_type": "markdown",
      "id": "54cfcfe4",
      "metadata": {
        "id": "54cfcfe4"
      },
      "source": [
        "---\n",
        "---\n",
        "# Exercise 1\n",
        "## Solve nonlinear, steady Navier-Stokes problem."
      ]
    },
    {
      "cell_type": "markdown",
      "id": "54e25927",
      "metadata": {
        "id": "54e25927"
      },
      "source": [
        "\\begin{equation*}\n",
        "\\begin{cases}\n",
        "(\\boldsymbol{u}\\cdot\\nabla)\\boldsymbol{u} - \\nu\\Delta \\boldsymbol{u} + \\nabla  p  = \\boldsymbol{0} & {\\rm in} \\ \\Omega, \\\\\n",
        "{\\rm div}\\,\\boldsymbol{u} = 0 & {\\rm in} \\ \\Omega, \\\\\n",
        "\\boldsymbol{u} = 4y(1-y)\\boldsymbol{i} & {\\rm on} \\ \\Gamma_{\\rm in}, \\\\\n",
        "(\\nu\\nabla\\boldsymbol{u} - pI)\\boldsymbol{n} = \\boldsymbol{0} & {\\rm on} \\ \\Gamma_{\\rm out}, \\\\\n",
        "\\boldsymbol{u} = \\boldsymbol{0} & {\\rm on} \\ \\Gamma_{\\rm wall}=\\partial\\Omega\\setminus(\\Gamma_{\\rm in}\\cup\\Gamma_{\\rm out}). \\\\\n",
        "\\end{cases}\n",
        "\\end{equation*}"
      ]
    },
    {
      "cell_type": "code",
      "execution_count": null,
      "id": "a5fc2e50",
      "metadata": {
        "id": "a5fc2e50"
      },
      "outputs": [],
      "source": [
        "# Import mesh: set the path correctly!\n",
        "# See cell before Exercise 1 about current path.\n",
        "mesh1='/content/drive/MyDrive/Cfd/elbow1.msh'\n",
        "mesh2='/content/drive/MyDrive/Cfd/elbow2.msh'\n",
        "\n",
        "\n",
        "mesh = Mesh(mesh1)\n",
        "fig, ax = plt.subplots()\n",
        "triplot(mesh, axes=ax)\n",
        "ax.legend(loc='upper left')"
      ]
    },
    {
      "cell_type": "code",
      "execution_count": null,
      "id": "f43293fe",
      "metadata": {
        "id": "f43293fe"
      },
      "outputs": [],
      "source": [
        "# Function spaces (mixed formulation)\n",
        "\n",
        "\n",
        "V = VectorFunctionSpace(mesh, 'P', 2)\n",
        "Q = FunctionSpace(mesh, 'P', 1)\n",
        "W = MixedFunctionSpace([V, Q])\n",
        "\n",
        "\n",
        "# Data and boundary conditions\n",
        "nu = 0.01\n",
        "f = Constant((0.,0.))\n",
        "x = SpatialCoordinate(mesh)\n",
        "u_in = (4*x[1]*(1-x[1]), 0.)\n",
        "\n",
        "bc_wall = DirichletBC(W.sub(0),Constant((0.0,0.0)) , (3))\n",
        "\n",
        "bc_in=DirichletBC(W.sub(0),u_in, (1))\n",
        "\n",
        "\n",
        "\n",
        "\n",
        "bcs = (bc_wall, bc_in)"
      ]
    },
    {
      "cell_type": "markdown",
      "id": "c72121a0",
      "metadata": {
        "id": "c72121a0"
      },
      "source": [
        "### Variational problems"
      ]
    },
    {
      "cell_type": "code",
      "execution_count": null,
      "id": "a3e8344b",
      "metadata": {
        "id": "a3e8344b"
      },
      "outputs": [],
      "source": [
        "u, p = TrialFunctions(W)\n",
        "v, q = TestFunctions(W)\n",
        "\n",
        "def initialization_problem_forms(u, v, p, q, nu, f):\n",
        "    # Stokes initialization\n",
        "    a_stokes = nu*inner(grad(u),grad(v))*dx -p*div(v)*dx +q*div(u)*dx\n",
        "    L_stokes = inner(f,v)*dx\n",
        "    return a_stokes, L_stokes\n",
        "\n",
        "def nonlinear_iteration_forms(u, v, p, q, nu, f, u_old):\n",
        "    # Fixed-point iteration\n",
        "    a_fp = nu*inner(grad(u),grad(v))*dx -p*div(v)*dx +q*div(u)*dx +dot(dot(grad(u),u_old),v)*dx  #dot for matrix vec multi\n",
        "    L_fp = inner(f,v)*dx\n",
        "    return a_fp, L_fp"
      ]
    },
    {
      "cell_type": "markdown",
      "id": "b771dd2e",
      "metadata": {
        "id": "b771dd2e"
      },
      "source": [
        "### Initialization and definition of the ***linear*** solver for each nonlinear iteration."
      ]
    },
    {
      "cell_type": "code",
      "execution_count": null,
      "id": "aa67b76b",
      "metadata": {
        "id": "aa67b76b"
      },
      "outputs": [],
      "source": [
        "# Initialization solver\n",
        "wh_init = Function(W)\n",
        "a_init, L_init = initialization_problem_forms(u, v, p, q, nu, f)\n",
        "init_problem = LinearVariationalProblem(a_init,L_init,wh_init,bcs)\n",
        "\n",
        "param = {'ksp_type': 'gmres', 'pc_type': 'bjacobi', 'sub_pc_type': 'ilu'}\n",
        "solver_init =  LinearVariationalSolver( init_problem,solver_parameters=param )\n",
        "\n",
        "# Actual initialization\n",
        "solver_init.solve()\n",
        "\n",
        "uh, ph = wh_init.split()\n",
        "\n",
        "# Plot of initial guess (Stokes solution)\n",
        "fig, ax = plt.subplots()\n",
        "col = tripcolor(ph, axes=ax)\n",
        "plt.colorbar(col)\n",
        "plt.title('pressure')\n",
        "fig, ax = plt.subplots()\n",
        "col = quiver(uh, axes=ax)\n",
        "plt.colorbar(col)\n",
        "plt.title('velocity')\n",
        "\n",
        "# vtk output for Paraview\n",
        "outfileU = File(\"output/velocity.pvd\")\n",
        "outfileP = File(\"output/pressure.pvd\")\n",
        "uh.rename(\"Velocity\")   # this name will be used in Paraview\n",
        "ph.rename(\"Pressure\")   # this name will be used in Paraview\n",
        "outfileU.write(uh)\n",
        "outfileP.write(ph)\n",
        "\n",
        "# Nonlinear solver\n",
        "u_old = Function(V)\n",
        "u_old.assign(uh)  #real copy\n",
        "#different from u_old=u_h shallow copy\n",
        "\n",
        "p_old = Function(Q)\n",
        "p_old.assign(ph)\n",
        "\n",
        "\n",
        "\n",
        "a, L = nonlinear_iteration_forms(u, v, p, q, nu, f, u_old)\n",
        "...\n",
        "problem = LinearVariationalProblem(a,L,wh_init,bcs)\n",
        "\n",
        "param = {'ksp_type': 'gmres', 'pc_type': 'bjacobi', 'sub_pc_type': 'ilu'}\n",
        "solver =  LinearVariationalSolver(problem,solver_parameters=param )"
      ]
    },
    {
      "cell_type": "markdown",
      "id": "2033d138",
      "metadata": {
        "id": "2033d138"
      },
      "source": [
        "### Iterative algorithm for the solution of the nonlinear problem"
      ]
    },
    {
      "cell_type": "code",
      "execution_count": null,
      "id": "e3897f64",
      "metadata": {
        "id": "e3897f64"
      },
      "outputs": [],
      "source": [
        "maxit = 100\n",
        "it = 0\n",
        "tol = 1e-3\n",
        "err = tol+1     # >tol in order to enter the loop at the beginning\n",
        "\n",
        "wh = Function(W)\n",
        "\n",
        "temp=u_old\n",
        "\n",
        "while it <= maxit and err > tol:\n",
        "\n",
        "    it += 1\n",
        "\n",
        "\n",
        "    a, L = nonlinear_iteration_forms(u, v, p, q, nu, f, u_old)\n",
        "\n",
        "    problem = LinearVariationalProblem(a,L,wh,bcs)\n",
        "\n",
        "    param = {'ksp_type': 'gmres', 'pc_type': 'bjacobi', 'sub_pc_type': 'ilu'}\n",
        "    solver =  LinearVariationalSolver(problem,solver_parameters=param )\n",
        "\n",
        "    uh, ph = wh.split()\n",
        "\n",
        "\n",
        "\n",
        "    err =errornorm(uh,u_old,'H1')/norm(u_old,'H1') + errornorm(ph,p_old,'L2')/norm(p_old,'L2')\n",
        "\n",
        "\n",
        "    print(\"Iteration = \", it, \" Error = \", err)\n",
        "    uh.rename(\"Velocity\")\n",
        "    ph.rename(\"Pressure\")\n",
        "    outfileU.write(uh)\n",
        "    outfileP.write(ph)\n",
        "\n",
        "    u_old.assign(uh) # update the old solution\n",
        "    p_old.assign(ph) # update the old solution\n",
        "\n",
        "if it <= maxit:\n",
        "    print('Nonlinear solver converged in', it, 'iterations.')\n",
        "else:\n",
        "    print('Nonlinear solver di NOT converge!\\nRelative error =', err, 'after', it, 'iterations.')"
      ]
    },
    {
      "cell_type": "code",
      "source": [
        "uh, ph = wh_init.split()\n",
        "\n",
        "# Plot of initial guess (Stokes solution)\n",
        "fig, ax = plt.subplots()\n",
        "col = tripcolor(ph, axes=ax)\n",
        "plt.colorbar(col)\n",
        "plt.title('pressure')\n",
        "fig, ax = plt.subplots()\n",
        "col = quiver(uh, axes=ax)\n",
        "plt.colorbar(col)\n",
        "plt.title('velocity')"
      ],
      "metadata": {
        "id": "U9JdzzPqvQXB"
      },
      "id": "U9JdzzPqvQXB",
      "execution_count": null,
      "outputs": []
    },
    {
      "cell_type": "markdown",
      "id": "3f340f8d",
      "metadata": {
        "id": "3f340f8d"
      },
      "source": [
        "---\n",
        "---\n",
        "# Exercise 2\n",
        "## Solve nonlinear, steady Navier-Stokes and compute streamlines."
      ]
    },
    {
      "cell_type": "markdown",
      "id": "19147543",
      "metadata": {
        "id": "19147543"
      },
      "source": [
        "The differences with respect to Exercise 1 are in the mesh, viscosity, and boundary conditions."
      ]
    },
    {
      "cell_type": "code",
      "execution_count": null,
      "id": "282407e4",
      "metadata": {
        "id": "282407e4"
      },
      "outputs": [],
      "source": [
        "# Import mesh: set the path correctly!\n",
        "# See cell before Exercise 1 about current path.\n",
        "mesh = ...\n",
        "fig, ax = plt.subplots()\n",
        "triplot(mesh, axes=ax)\n",
        "ax.legend(loc='upper left')\n",
        "\n",
        "# Function spaces\n",
        "...\n",
        "\n",
        "# Data and boundary conditions\n",
        "...\n",
        "bcs = ..."
      ]
    },
    {
      "cell_type": "markdown",
      "id": "736d5c4c",
      "metadata": {
        "id": "736d5c4c"
      },
      "source": [
        "Then, the nonlinear problem and its iterative solution algorithm are the same as in Exercise 1: after the execution of the cell just above these, run all the cells of Exercise 1 starting with 'Variational problems'.\n"
      ]
    },
    {
      "cell_type": "markdown",
      "id": "9e7bad0f",
      "metadata": {
        "id": "9e7bad0f"
      },
      "source": [
        "\n",
        "Here we implement just the stream function problem and solution."
      ]
    },
    {
      "cell_type": "code",
      "execution_count": null,
      "id": "8da22bc1",
      "metadata": {
        "id": "8da22bc1"
      },
      "outputs": [],
      "source": [
        "Z = ...\n",
        "psi = TrialFunction(Z)\n",
        "eta = TestFunction(Z)\n",
        "\n",
        "a_stream = ...\n",
        "# omega = Dx(uh.sub(1),0) - Dx(uh.sub(0),1)   # by components (UFL syntax)\n",
        "omega = rot(uh)                               # by pre-defined UFL command\n",
        "L_stream = ...\n",
        "\n",
        "bcs_stream = ...\n",
        "\n",
        "psi_h = Function(Z)\n",
        "... solve stream problem ...\n",
        "\n",
        "col = tricontour(psi_h)     # contour plot with no filling\n",
        "plt.colorbar(col)\n",
        "col = tricontourf(psi_h)    # contour plot with filled-in coloring\n",
        "plt.colorbar(col)"
      ]
    }
  ],
  "metadata": {
    "colab": {
      "private_outputs": true,
      "provenance": []
    },
    "kernelspec": {
      "display_name": "Python 3 (ipykernel)",
      "language": "python",
      "name": "python3"
    },
    "language_info": {
      "codemirror_mode": {
        "name": "ipython",
        "version": 3
      },
      "file_extension": ".py",
      "mimetype": "text/x-python",
      "name": "python",
      "nbconvert_exporter": "python",
      "pygments_lexer": "ipython3",
      "version": "3.10.12"
    }
  },
  "nbformat": 4,
  "nbformat_minor": 5
}