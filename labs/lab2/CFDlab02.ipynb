{
  "cells": [
    {
      "cell_type": "code",
      "execution_count": null,
      "id": "3S6xPouYEYrq",
      "metadata": {
        "id": "3S6xPouYEYrq"
      },
      "outputs": [],
      "source": [
        "try:\n",
        "    import firedrake\n",
        "except ImportError:\n",
        "    !wget \"https://fem-on-colab.github.io/releases/firedrake-install-real.sh\" -O \"/tmp/firedrake-install.sh\" && bash \"/tmp/firedrake-install.sh\"\n",
        "    import firedrake"
      ]
    },
    {
      "cell_type": "code",
      "execution_count": null,
      "id": "0Zf-PF6eYduS",
      "metadata": {
        "id": "0Zf-PF6eYduS"
      },
      "outputs": [],
      "source": [
        "from firedrake import *\n",
        "import matplotlib.pyplot as plt\n",
        "\n",
        "import numpy as np"
      ]
    },
    {
      "cell_type": "code",
      "execution_count": null,
      "id": "GoZ-yCJ-JNIe",
      "metadata": {
        "id": "GoZ-yCJ-JNIe"
      },
      "outputs": [],
      "source": [
        "from google.colab import drive\n",
        "drive.mount('/content/drive')"
      ]
    },
    {
      "cell_type": "markdown",
      "id": "fb76042f",
      "metadata": {
        "id": "fb76042f"
      },
      "source": [
        "# Ex.1 - Stokes problem - patch test"
      ]
    },
    {
      "cell_type": "markdown",
      "id": "54e25927",
      "metadata": {
        "id": "54e25927"
      },
      "source": [
        "\\begin{equation*}\n",
        "\\begin{cases}\n",
        "- \\Delta \\boldsymbol{u} + \\nabla  p  = \\boldsymbol{0} & {\\rm in} \\ \\Omega=(0,3)\\times(0,1), \\\\\n",
        "{\\rm div}\\,\\boldsymbol{u} = 0 & {\\rm in} \\ \\Omega, \\\\\n",
        "(\\nabla\\boldsymbol{u}-pI)\\boldsymbol{n} = \\boldsymbol{0} & {\\rm on} \\ \\Gamma_1\\cup\\Gamma_2,\\\\\n",
        "\\boldsymbol{u} = \\boldsymbol{0} & {\\rm on} \\ \\Gamma_3, \\\\\n",
        "\\boldsymbol{u} = \\boldsymbol{g}_\\text{D} & {\\rm on} \\ \\Gamma_4.\n",
        "\\end{cases}\n",
        "\\end{equation*}\n",
        "\n",
        "with $\\boldsymbol{g}_\\text{D} = 1\\boldsymbol{i}$."
      ]
    },
    {
      "cell_type": "code",
      "execution_count": null,
      "id": "dd3fb78d",
      "metadata": {
        "id": "dd3fb78d"
      },
      "outputs": [],
      "source": [
        "from firedrake import RectangleMesh\n",
        "\n",
        "# Build the mesh\n",
        "n = 10\n",
        "mesh = RectangleMesh(3*n, n, 3, 1)\n",
        "\n",
        "fig, ax = plt.subplots()\n",
        "triplot(mesh, axes=ax)\n",
        "ax.legend()"
      ]
    },
    {
      "cell_type": "code",
      "execution_count": null,
      "id": "9087971a",
      "metadata": {
        "id": "9087971a"
      },
      "outputs": [],
      "source": [
        "# Function spaces\n",
        "\n",
        "# P1-P0\n",
        "V = VectorFunctionSpace(mesh, 'P', 1)\n",
        "Q = FunctionSpace(mesh, 'DP', 0) # NB: P0 are DISCONTINUOUS elements (DP)\n",
        "\n",
        "# P1-P1\n",
        "# V = VectorFunctionSpace(mesh, 'P', 1)\n",
        "# Q = FunctionSpace(mesh, 'P', 1)\n",
        "\n",
        "# P1b-P1\n",
        "# The enrichment of the velocity space has to be done at the finite element level\n",
        "V1_el = FiniteElement('CG', mesh.ufl_cell(), 1)\n",
        "B_el = FiniteElement('Bubble', mesh.ufl_cell(), mesh.topological_dimension() + 1)\n",
        "V_el = VectorElement(NodalEnrichedElement(V1_el, B_el))\n",
        "V = FunctionSpace(mesh, V_el)\n",
        "Q = FunctionSpace(mesh, 'P', 1)\n",
        "\n",
        "# P2-P1\n",
        "# V = VectorFunctionSpace(mesh, 'P', 2)\n",
        "# Q = FunctionSpace(mesh, 'P', 1)\n",
        "\n",
        "W = MixedFunctionSpace([V, Q])\n",
        "print('Ndofs - velocity :',V.dim(),', pressure :',Q.dim(),', total :',W.dim())\n",
        "\n",
        "# Finite element functions\n",
        "u, p = TrialFunctions(W)\n",
        "v, q = TestFunctions(W)"
      ]
    },
    {
      "cell_type": "code",
      "execution_count": null,
      "id": "LauaVANKWzlK",
      "metadata": {
        "id": "LauaVANKWzlK"
      },
      "outputs": [],
      "source": [
        "# Boundary conditions (strong)\n",
        "bc3 = DirichletBC(W.sub(0), Constant((0., 0.)), 3)\n",
        "bc4 = DirichletBC(W.sub(0), Constant((1., 0.)), 4)\n",
        "bcs = (bc3, bc4)\n",
        "\n",
        "# Variational formulation\n",
        "a = inner(grad(u), grad(v)) * dx - div(v) * p * dx + q * div(u) * dx\n",
        "L = inner(Constant((0.0,0.0)), v) * dx\n",
        "  # Dummy rhs (=0) to ensure that the solve recognize a==L as a linear problem\n",
        "\n",
        "# Solution (NB: do not use the same name u,v,p,q of the trial/test functions)\n",
        "wh = Function(W)\n",
        "solve(a == L, wh, bcs=bcs)\n",
        "uh, ph = wh.subfunctions"
      ]
    },
    {
      "cell_type": "code",
      "execution_count": null,
      "id": "ZUBrcqxpXwCd",
      "metadata": {
        "id": "ZUBrcqxpXwCd"
      },
      "outputs": [],
      "source": [
        "# Variational formulation (penalty method) - we will see later on in the course\n",
        "eps = 1.e-30\n",
        "a = inner(grad(u), grad(v)) * dx - div(v) * p * dx + q * div(u) * dx \\\n",
        "    + 1./eps*inner(u,v)*ds(3) + 1./eps*inner(u,v)*ds(4)\n",
        "L = 1./eps*inner(Constant((1.,0.)),v) * ds(4)\n",
        "\n",
        "# Solution (NB: do not use the same name u,v,p,q of the trial/test functions)\n",
        "wh = Function(W)\n",
        "solve(a == L, wh, bcs=bcs)\n",
        "uh, ph = wh.subfunctions"
      ]
    },
    {
      "cell_type": "code",
      "execution_count": null,
      "id": "g7Ajq56OMJwx",
      "metadata": {
        "id": "g7Ajq56OMJwx"
      },
      "outputs": [],
      "source": [
        "fig, ax = plt.subplots()\n",
        "col = tripcolor(ph, axes=ax)\n",
        "plt.colorbar(col)\n",
        "plt.title('pressure')\n",
        "fig, ax = plt.subplots()\n",
        "col = quiver(uh, axes=ax)\n",
        "plt.colorbar(col)\n",
        "plt.title('velocity')"
      ]
    },
    {
      "cell_type": "code",
      "execution_count": null,
      "id": "dXLlkDHTh2ef",
      "metadata": {
        "id": "dXLlkDHTh2ef"
      },
      "outputs": [],
      "source": [
        "# Error computation\n",
        "x = SpatialCoordinate(mesh)\n",
        "u_ex = as_vector([x[1],0.])\n",
        "grad_u_ex = as_tensor([[0.,1.],[0.,0.]])\n",
        "p_ex = Constant(0.)\n",
        "errL2u = sqrt(assemble( inner(uh-u_ex,uh-u_ex) * dx ))\n",
        "errH10u = sqrt(assemble( inner(grad(uh)-grad_u_ex,grad(uh)-grad_u_ex) * dx ))\n",
        "errL2p = sqrt(assemble( inner(ph-p_ex,ph-p_ex) * dx ))\n",
        "print('Errors - L2-u:', errL2u, ', H10-u:', errH10u, ', L2-p:', errL2p)"
      ]
    },
    {
      "cell_type": "markdown",
      "id": "LhGKG6m9VbDK",
      "metadata": {
        "id": "LhGKG6m9VbDK"
      },
      "source": [
        "## Ex.2 - Stokes problem - fully Dirichlet"
      ]
    },
    {
      "cell_type": "code",
      "execution_count": null,
      "id": "1WKs9bqoXO9i",
      "metadata": {
        "id": "1WKs9bqoXO9i"
      },
      "outputs": [],
      "source": [
        "# Build the mesh\n",
        "n = 10\n",
        "mesh = UnitSquareMesh(n, n)\n",
        "\n",
        "fig, ax = plt.subplots()\n",
        "triplot(mesh, axes=ax)\n",
        "ax.legend()"
      ]
    },
    {
      "cell_type": "code",
      "execution_count": null,
      "id": "L_UjI2HxLQOy",
      "metadata": {
        "id": "L_UjI2HxLQOy"
      },
      "outputs": [],
      "source": [
        "# Function spaces\n",
        "V = VectorFunctionSpace(mesh, 'P', 2)\n",
        "Q = FunctionSpace(mesh, 'P', 1)\n",
        "W = MixedFunctionSpace([V, Q])\n",
        "\n",
        "# Exact solution and source term.\n",
        "# In principle they are generic expressions, but in Firedrake they need to be\n",
        "# defined on a specific mesh (see below for a more general definition).\n",
        "x = SpatialCoordinate(mesh)\n",
        "u_ex = as_vector((\n",
        "    -cos(x[0]) * sin(x[1]),\n",
        "    sin(x[0]) * cos(x[1])))\n",
        "p_ex = -0.25 * (cos(2*x[0]) + cos(2*x[1])) + 0.25*sin(2.0)\n",
        "# The last term in p_ex makes sure that the mean is zero, consistent with the\n",
        "# null space of the B operator in the fully Dirichlet case.\n",
        "f = as_vector((\n",
        "    -2 * cos(x[0]) * sin(x[1]) + 0.5 * sin(2 * x[0]),\n",
        "    2 * sin(x[0]) * cos(x[1]) + 0.5 * sin(2 * x[1])))\n",
        "\n",
        "# Boundary conditions\n",
        "bc = DirichletBC(W.sub(0), u_ex, (1,2,3,4))\n",
        "bcs = (bc)\n",
        "\n",
        "# Variational formulation\n",
        "u, p = TrialFunctions(W)\n",
        "v, q = TestFunctions(W)\n",
        "\n",
        "a = inner(grad(u), grad(v)) * dx - div(v) * p * dx + q * div(u) * dx\n",
        "L = dot(f, v) * dx\n",
        "\n",
        "# Solution - default solver (iterative)\n",
        "w = Function(W)\n",
        "solve(a == L, w, bcs=bcs)\n",
        "uh, ph = w.split()\n",
        "\n",
        "# # Solution - direct solver\n",
        "# w = Function(W)\n",
        "# solve(a == L, w, bcs=bcs, solver_parameters={'ksp_type':'preonly', 'pc_type':'lu'})\n",
        "# uh, ph = w.split()\n",
        "\n",
        "# # Solution - iterative solver including pressure null space\n",
        "\n",
        "# # Handle the pressure indetermination by specifying the nullspace\n",
        "# # see https://www.firedrakeproject.org/solving-interface.html#singular-operators-in-mixed-spaces\n",
        "# # We provide a basis for the nullspace of pressure (constant functions).\n",
        "# # For velocity, we pass the whole space, signifying that we neglect it.\n",
        "# nullspace = MixedVectorSpaceBasis(\n",
        "#     W, [W.sub(0), VectorSpaceBasis(constant=True)]\n",
        "# )\n",
        "\n",
        "# w = Function(W)\n",
        "# solve(a == L, w, bcs=bcs, nullspace=nullspace, solver_parameters={'ksp_type':'gmres', 'pc_type':'ilu'})\n",
        "# uh, ph = w.split()"
      ]
    },
    {
      "cell_type": "code",
      "execution_count": null,
      "id": "frFDZT5c5Z-q",
      "metadata": {
        "id": "frFDZT5c5Z-q"
      },
      "outputs": [],
      "source": [
        "fig, ax = plt.subplots()\n",
        "q = tripcolor(ph, axes=ax)\n",
        "plt.colorbar(q)\n",
        "fig, ax = plt.subplots()\n",
        "q = quiver(uh, axes=ax)\n",
        "plt.colorbar(q)"
      ]
    },
    {
      "cell_type": "markdown",
      "id": "1lE0LBM5tQfi",
      "metadata": {
        "id": "1lE0LBM5tQfi"
      },
      "source": [
        "### Convergence analysis"
      ]
    },
    {
      "cell_type": "code",
      "execution_count": null,
      "id": "7ct4N2twX4YH",
      "metadata": {
        "id": "7ct4N2twX4YH"
      },
      "outputs": [],
      "source": [
        "# We collect all the solution steps in a function, so that the convergence test\n",
        "# boils down to multiple calls to this function.\n",
        "\n",
        "def solve_stokes(n, degreeU, degreeP, gD_fun, f_fun):\n",
        "    # Mesh definition\n",
        "    mesh = UnitSquareMesh(n, n, 'crossed')\n",
        "\n",
        "    V = VectorFunctionSpace(mesh, 'P', degreeU)\n",
        "    if degreeP==0:\n",
        "        Q = FunctionSpace(mesh, 'DP', 0) #P0 element is discontinuous\n",
        "    else:\n",
        "        Q = FunctionSpace(mesh, 'P', degreeP)\n",
        "\n",
        "    W = MixedFunctionSpace([V, Q])\n",
        "\n",
        "    # The data generic expression are interpolated on the current mesh.\n",
        "    x = SpatialCoordinate(mesh)\n",
        "    gD = gD_fun(x)\n",
        "    f = f_fun(x)\n",
        "\n",
        "    bc = DirichletBC(W.sub(0), gD, 'on_boundary')\n",
        "\n",
        "    # Handle the pressure indetermination by specifying the nullspace\n",
        "    # see https://www.firedrakeproject.org/solving-interface.html#singular-operators-in-mixed-spaces\n",
        "    # According to the documentation, we provide a basis for the nullspace of pressure\n",
        "    # For velocity, we pass the whole space, signifying that \"we don't care about\" it\n",
        "    nullspace = MixedVectorSpaceBasis(\n",
        "        W, [W.sub(0), VectorSpaceBasis(constant=True)]\n",
        "    )\n",
        "\n",
        "    # Variational formulation\n",
        "    u, p = TrialFunctions(W)\n",
        "    v, q = TestFunctions(W)\n",
        "\n",
        "    a = inner(grad(u), grad(v)) * dx - div(v) * p * dx + q * div(u) * dx\n",
        "    L = dot(f, v) * dx\n",
        "\n",
        "    # Solution\n",
        "    w = Function(W)\n",
        "    solve(a == L, w, bcs=bc, nullspace=nullspace)\n",
        "    u, p = w.split()\n",
        "\n",
        "    return u, p, mesh"
      ]
    },
    {
      "cell_type": "code",
      "execution_count": null,
      "id": "qLR1lPThXdwk",
      "metadata": {
        "id": "qLR1lPThXdwk"
      },
      "outputs": [],
      "source": [
        "n_vec = np.array((10, 20, 40))\n",
        "err_u_L2 = np.zeros(n_vec.shape[0])\n",
        "err_u_H1 = np.zeros(n_vec.shape[0])\n",
        "err_p_L2 = np.zeros(n_vec.shape[0])\n",
        "err_p_H1 = np.zeros(n_vec.shape[0])\n",
        "\n",
        "# Exact solution and source term as general functions:\n",
        "# to avoid mesh dependence, we define them as lambda functions.\n",
        "u_ex_fun = lambda x: as_vector((\n",
        "    -cos(x[0]) * sin(x[1]),\n",
        "    sin(x[0]) * cos(x[1])))\n",
        "p_ex_fun = lambda x: -0.25 * (cos(2*x[0]) + cos(2*x[1])) + 0.25*sin(2.0)\n",
        "f_fun = lambda x: as_vector((\n",
        "    -2 * cos(x[0]) * sin(x[1]) + 0.5 * sin(2 * x[0]),\n",
        "    2 * sin(x[0]) * cos(x[1]) + 0.5 * sin(2 * x[1])))\n",
        "\n",
        "for ii in range(n_vec.shape[0]):\n",
        "    n = n_vec[ii]\n",
        "    uh, ph, mesh = solve_stokes(n, 2, 1, u_ex_fun, f_fun)\n",
        "\n",
        "    # Interpolate lambda functions on current mesh\n",
        "    x = SpatialCoordinate(mesh)\n",
        "    u_ex = u_ex_fun(x)\n",
        "    p_ex = p_ex_fun(x)\n",
        "\n",
        "    mean_ph = assemble(ph*dx)\n",
        "    print('mean pressure = ', mean_ph)\n",
        "    print('mean exact pressure = ', assemble(p_ex*dx))\n",
        "    # Notice that the average of the discrete pressure is non-neglible despite\n",
        "    # we consider its null space in the linear solver.\n",
        "    # This spoils pressure's convergence rate.\n",
        "\n",
        "    err_u_L2[ii] = errornorm(u_ex, uh, 'L2')\n",
        "    err_u_H1[ii] = errornorm(u_ex, uh, 'H1')\n",
        "    # err_p_L2[ii] = errornorm(p_ex, ph, 'L2')\n",
        "    err_p_L2[ii] = sqrt(assemble((ph-mean_ph - p_ex)*(ph-mean_ph - p_ex)*dx))\n",
        "      # correction to restore the convergence rate\n",
        "\n",
        "    print('n = ', n_vec[ii])\n",
        "    print('L2 error, velocity = ', err_u_L2[ii])\n",
        "    print('H1 error, velocity = ', err_u_H1[ii])\n",
        "    print('L2 error, pressure = ', err_p_L2[ii])"
      ]
    },
    {
      "cell_type": "code",
      "execution_count": null,
      "id": "dXueOyl2YtBQ",
      "metadata": {
        "id": "dXueOyl2YtBQ"
      },
      "outputs": [],
      "source": [
        "h_vec = list(1./el for el in n_vec)\n",
        "plt.loglog(h_vec, err_u_L2, marker='o', label='u L2')\n",
        "plt.loglog(h_vec, err_u_H1, marker='o', label='u H1')\n",
        "plt.loglog(h_vec, err_p_L2, marker='+', label='p L2')\n",
        "plt.loglog(h_vec, err_p_H1, marker='+', label='p H1')\n",
        "plt.loglog(h_vec, h_vec, linestyle='--', label='h')\n",
        "plt.loglog(h_vec, list(h**2 for h in h_vec), linestyle='--', label='h^2')\n",
        "plt.loglog(h_vec, list(h**3 for h in h_vec), linestyle='--', label='h^3')\n",
        "\n",
        "plt.legend()"
      ]
    },
    {
      "cell_type": "markdown",
      "id": "xB7PE2RekDXr",
      "metadata": {
        "id": "xB7PE2RekDXr"
      },
      "source": [
        "### (additional) Nullspace investigation"
      ]
    },
    {
      "cell_type": "code",
      "execution_count": null,
      "id": "2ccd98ad",
      "metadata": {
        "id": "2ccd98ad"
      },
      "outputs": [],
      "source": [
        "# Small problem to investigate eigenvalues\n",
        "n=5\n",
        "mesh = UnitSquareMesh(n, n, 'crossed')\n",
        "V = VectorFunctionSpace(mesh, 'P', 2)\n",
        "Q = FunctionSpace(mesh, 'P', 1)\n",
        "W = MixedFunctionSpace([V, Q])\n",
        "x = SpatialCoordinate(mesh)\n",
        "gD = u_ex_fun(x)\n",
        "f = f_fun(x)\n",
        "bc = DirichletBC(W.sub(0), gD, 'on_boundary')\n",
        "u, p = TrialFunctions(W)\n",
        "v, q = TestFunctions(W)\n",
        "a = inner(grad(u), grad(v)) * dx - div(v) * p * dx + q * div(u) * dx\n",
        "\n",
        "# Monolithic matrix\n",
        "A = assemble(a, bcs=(bc)).M.values\n",
        "\n",
        "fig, ax = plt.subplots()\n",
        "plt.spy(A)\n",
        "\n",
        "w, vv = np.linalg.eig(A)\n",
        "true_nullspace = vv[:, abs(w)<1e-14]\n",
        "\n",
        "print('Dimension of the computed nullspace = ', true_nullspace.shape[1])\n",
        "# print('a nullspace function: ', true_nullspace[:,0])\n",
        "\n",
        "Qdim = Q.dim() #dimension of pressure space\n",
        "print('small eigenvalues = ', w[abs(w)<1e-14])\n",
        "#print('eigenvector = ', true_nullspace[-Qdim:,0])\n",
        "# see https://www.firedrakeproject.org/firedrake.html#firedrake.function.Function\n",
        "\n",
        "# Plot eigenmode\n",
        "ps = Function(Q, val=true_nullspace[-Qdim:,0])\n",
        "fig, ax = plt.subplots()\n",
        "q = tripcolor(ps, axes=ax)\n"
      ]
    },
    {
      "cell_type": "markdown",
      "id": "gnE2fHHLkTJT",
      "metadata": {
        "id": "gnE2fHHLkTJT"
      },
      "source": [
        "# Ex.3 - Stokes problem - Block algebraic formulation"
      ]
    },
    {
      "cell_type": "code",
      "execution_count": null,
      "id": "ZL62E712kYZU",
      "metadata": {
        "id": "ZL62E712kYZU"
      },
      "outputs": [],
      "source": [
        "# Build domain mesh - y_min=-1\n",
        "n = 32\n",
        "mesh = RectangleMesh(2*n, 2*n, 2., 1., originY=-1.)\n",
        "\n",
        "fig, ax = plt.subplots()\n",
        "triplot(mesh, axes=ax)\n",
        "ax.legend()"
      ]
    },
    {
      "cell_type": "code",
      "execution_count": null,
      "id": "a7_kNdvDkx2v",
      "metadata": {
        "id": "a7_kNdvDkx2v"
      },
      "outputs": [],
      "source": [
        "from time import perf_counter\n",
        "\n",
        "# Function spaces\n",
        "V = VectorFunctionSpace(mesh, 'P', 2)\n",
        "Q = FunctionSpace(mesh, 'P', 1)\n",
        "W = MixedFunctionSpace([V, Q])\n",
        "\n",
        "# Boundary conditions\n",
        "x = SpatialCoordinate(mesh)\n",
        "gD = (1.-x[1]**2, 0.)\n",
        "bc_in = DirichletBC(W.sub(0), gD, 1)\n",
        "bc_wall = DirichletBC(W.sub(0), Constant((0.,0.)), (3, 4))\n",
        "bcs = (bc_in, bc_wall)\n",
        "\n",
        "# Handle the pressure indetermination by specifying the nullspace\n",
        "# see https://www.firedrakeproject.org/solving-interface.html#singular-operators-in-mixed-spaces\n",
        "# Following the documentation, we provide a basis for the nullspace of pressure\n",
        "# For velocity, we pass the whole space, signifying that \"we don't care about\" it\n",
        "nullspace = MixedVectorSpaceBasis(\n",
        "    W, [W.sub(0), VectorSpaceBasis(constant=True)]\n",
        ")\n",
        "\n",
        "# Variational formulation\n",
        "u, p = TrialFunctions(W)\n",
        "v, q = TestFunctions(W)\n",
        "f = Constant((0.,0.))\n",
        "\n",
        "a = 1.e-2*inner(grad(u), grad(v)) * dx - div(v) * p * dx + q * div(u) * dx\n",
        "L = dot(f, v) * dx\n",
        "\n",
        "# Solution\n",
        "w = Function(W)\n",
        "\n",
        "vpb = LinearVariationalProblem(a, L, w, bcs)\n",
        "\n",
        "parameters = {'ksp_type': 'gmres', 'pc_type': 'bjacobi', 'sub_pc_type': 'ilu',\n",
        "              'ksp_rtol': 1.e-5, 'ksp_max_it': 10000}\n",
        "solver =  LinearVariationalSolver(vpb, solver_parameters=parameters)\n",
        "t0 = perf_counter()\n",
        "solver.solve()\n",
        "print('elapsed time = ', perf_counter() - t0, 's    -    # iter = ', solver.snes.ksp.getIterationNumber())"
      ]
    },
    {
      "cell_type": "code",
      "execution_count": null,
      "id": "XIGzYMcrn7p2",
      "metadata": {
        "id": "XIGzYMcrn7p2"
      },
      "outputs": [],
      "source": [
        "uh, ph = w.split()\n",
        "fig, ax = plt.subplots()\n",
        "q = tripcolor(ph, axes=ax)\n",
        "plt.colorbar(q)\n",
        "fig, ax = plt.subplots()\n",
        "q = quiver(uh, axes=ax)\n",
        "plt.colorbar(q)"
      ]
    }
  ],
  "metadata": {
    "colab": {
      "private_outputs": true,
      "provenance": []
    },
    "kernelspec": {
      "display_name": "Python 3 (ipykernel)",
      "language": "python",
      "name": "python3"
    },
    "language_info": {
      "codemirror_mode": {
        "name": "ipython",
        "version": 3
      },
      "file_extension": ".py",
      "mimetype": "text/x-python",
      "name": "python",
      "nbconvert_exporter": "python",
      "pygments_lexer": "ipython3",
      "version": "3.10.12"
    }
  },
  "nbformat": 4,
  "nbformat_minor": 5
}