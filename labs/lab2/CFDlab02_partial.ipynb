{
  "cells": [
    {
      "cell_type": "code",
      "execution_count": null,
      "id": "3S6xPouYEYrq",
      "metadata": {
        "id": "3S6xPouYEYrq"
      },
      "outputs": [],
      "source": [
        "try:\n",
        "    import firedrake\n",
        "except ImportError:\n",
        "    !wget \"https://fem-on-colab.github.io/releases/firedrake-install-real.sh\" -O \"/tmp/firedrake-install.sh\" && bash \"/tmp/firedrake-install.sh\"\n",
        "    import firedrake"
      ]
    },
    {
      "cell_type": "code",
      "execution_count": null,
      "id": "0Zf-PF6eYduS",
      "metadata": {
        "id": "0Zf-PF6eYduS"
      },
      "outputs": [],
      "source": [
        "from firedrake import *\n",
        "import matplotlib.pyplot as plt\n",
        "\n",
        "import numpy as np"
      ]
    },
    {
      "cell_type": "markdown",
      "id": "fb76042f",
      "metadata": {
        "id": "fb76042f"
      },
      "source": [
        "# Ex.1 - Stokes problem - patch test"
      ]
    },
    {
      "cell_type": "markdown",
      "id": "54e25927",
      "metadata": {
        "id": "54e25927"
      },
      "source": [
        "\\begin{equation*}\n",
        "\\begin{cases}\n",
        "- \\Delta \\boldsymbol{u} + \\nabla  p  = \\boldsymbol{0} & {\\rm in} \\ \\Omega=(0,3)\\times(0,1), \\\\\n",
        "{\\rm div}\\,\\boldsymbol{u} = 0 & {\\rm in} \\ \\Omega, \\\\\n",
        "(\\nabla\\boldsymbol{u}-pI)\\boldsymbol{n} = \\boldsymbol{0} & {\\rm on} \\ \\Gamma_1\\cup\\Gamma_2,\\\\\n",
        "\\boldsymbol{u} = \\boldsymbol{0} & {\\rm on} \\ \\Gamma_3, \\\\\n",
        "\\boldsymbol{u} = \\boldsymbol{g}_\\text{D} & {\\rm on} \\ \\Gamma_4.\n",
        "\\end{cases}\n",
        "\\end{equation*}\n",
        "\n",
        "with $\\boldsymbol{g}_\\text{D} = 1\\boldsymbol{i}$."
      ]
    },
    {
      "cell_type": "code",
      "execution_count": null,
      "id": "dd3fb78d",
      "metadata": {
        "id": "dd3fb78d"
      },
      "outputs": [],
      "source": [
        "from firedrake import RectangleMesh\n",
        "\n",
        "# Build the mesh\n",
        "n = 10\n",
        "mesh = RectangleMesh(3*n, n, 3, 1)\n",
        "\n",
        "fig, ax = plt.subplots()\n",
        "triplot(mesh, axes=ax)\n",
        "ax.legend()"
      ]
    },
    {
      "cell_type": "code",
      "execution_count": null,
      "id": "9087971a",
      "metadata": {
        "id": "9087971a"
      },
      "outputs": [],
      "source": [
        "# Function spaces\n",
        "\n",
        "# P1-P0\n",
        "V = VectorFunctionSpace(mesh, 'P', 1)\n",
        "Q = FunctionSpace(mesh, 'DP', 0) # NB: P0 are DISCONTINUOUS elements (DP)\n",
        "\n",
        "# P1-P1\n",
        "# V = VectorFunctionSpace(mesh, 'P', 1)\n",
        "# Q = FunctionSpace(mesh, 'P', 1)\n",
        "\n",
        "# P1b-P1\n",
        "# The enrichment of the velocity space has to be done at the finite element level\n",
        "V1_el = FiniteElement('CG', mesh.ufl_cell(), 1)\n",
        "B_el = FiniteElement('Bubble', mesh.ufl_cell(), mesh.topological_dimension() + 1)\n",
        "V_el = VectorElement(NodalEnrichedElement(V1_el, B_el))\n",
        "V = FunctionSpace(mesh, V_el)\n",
        "Q = FunctionSpace(mesh, 'P', 1)\n",
        "\n",
        "# P2-P1\n",
        "V = VectorFunctionSpace(mesh, 'P', 2)\n",
        "Q = FunctionSpace(mesh, 'P', 1)\n",
        "\n",
        "W = MixedFunctionSpace([V, Q])\n",
        "print('Ndofs - velocity :',V.dim(),', pressure :',Q.dim(),', total :',W.dim())\n",
        "\n",
        "# Finite element functions\n",
        "u, p = TrialFunctions(W)\n",
        "v, q = TestFunctions(W)"
      ]
    },
    {
      "cell_type": "code",
      "execution_count": null,
      "id": "LauaVANKWzlK",
      "metadata": {
        "id": "LauaVANKWzlK"
      },
      "outputs": [],
      "source": [
        "# Boundary conditions (strong)\n",
        "bc3 = DirichletBC(W.sub(0), Constant((0., 0.)), 3)\n",
        "bc4 = DirichletBC(W.sub(0), Constant((1., 0.)), 4)\n",
        "bcs = (bc3, bc4)\n",
        "\n",
        "# Variational formulation\n",
        "a = inner(grad(u), grad(v)) * dx - div(v) * p * dx + q * div(u) * dx\n",
        "L = inner(Constant((0.0,0.0)), v) * dx\n",
        "  # Dummy rhs (=0) to ensure that the solve recognize a==L as a linear problem\n",
        "\n",
        "# Solution (NB: do not use the same name u,v,p,q of the trial/test functions)\n",
        "wh = Function(W)\n",
        "solve(a == L, wh, bcs=bcs)\n",
        "uh, ph = wh.subfunctions"
      ]
    },
    {
      "cell_type": "code",
      "execution_count": null,
      "id": "ZUBrcqxpXwCd",
      "metadata": {
        "id": "ZUBrcqxpXwCd"
      },
      "outputs": [],
      "source": [
        "# Variational formulation (penalty method)\n",
        "eps = 1.e-30\n",
        "a = inner(grad(u), grad(v)) * dx - div(v) * p * dx + q * div(u) * dx \\\n",
        "    + 1./eps*inner(u,v)*ds(3) + 1./eps*inner(u,v)*ds(4)\n",
        "L = 1./eps*inner(Constant((1.,0.)),v) * ds(4)\n",
        "\n",
        "# Solution (NB: do not use the same name u,v,p,q of the trial/test functions)\n",
        "wh = Function(W)\n",
        "solve(a == L, wh, bcs=bcs)\n",
        "uh, ph = wh.subfunctions"
      ]
    },
    {
      "cell_type": "code",
      "execution_count": null,
      "id": "g7Ajq56OMJwx",
      "metadata": {
        "id": "g7Ajq56OMJwx"
      },
      "outputs": [],
      "source": [
        "fig, ax = plt.subplots()\n",
        "col = tripcolor(ph, axes=ax)\n",
        "plt.colorbar(col)\n",
        "plt.title('pressure')\n",
        "fig, ax = plt.subplots()\n",
        "col = quiver(uh, axes=ax)\n",
        "plt.colorbar(col)\n",
        "plt.title('velocity')"
      ]
    },
    {
      "cell_type": "code",
      "execution_count": null,
      "id": "dXLlkDHTh2ef",
      "metadata": {
        "id": "dXLlkDHTh2ef"
      },
      "outputs": [],
      "source": [
        "# Error computation\n",
        "x = SpatialCoordinate(mesh)\n",
        "u_ex = as_vector([x[1],0.])\n",
        "grad_u_ex = as_tensor([[0.,1.],[0.,0.]])\n",
        "p_ex = Constant(0.)\n",
        "errL2u = sqrt(assemble( inner(uh-u_ex,uh-u_ex) * dx ))\n",
        "errH10u = sqrt(assemble( inner(grad(uh)-grad_u_ex,grad(uh)-grad_u_ex) * dx ))\n",
        "errL2p = sqrt(assemble( inner(ph-p_ex,ph-p_ex) * dx ))\n",
        "print('Errors - L2-u:', errL2u, ', H10-u:', errH10u, ', L2-p:', errL2p)"
      ]
    },
    {
      "cell_type": "code",
      "source": [],
      "metadata": {
        "id": "GHtHv2iosWV9"
      },
      "id": "GHtHv2iosWV9",
      "execution_count": null,
      "outputs": []
    },
    {
      "cell_type": "code",
      "source": [],
      "metadata": {
        "id": "daKGsHCpsWYG"
      },
      "id": "daKGsHCpsWYG",
      "execution_count": null,
      "outputs": []
    },
    {
      "cell_type": "code",
      "source": [],
      "metadata": {
        "id": "gQ5U6H0UsWaZ"
      },
      "id": "gQ5U6H0UsWaZ",
      "execution_count": null,
      "outputs": []
    },
    {
      "cell_type": "code",
      "source": [
        "mesh = RectangleMesh(3*n, n, 3, 1)\n",
        "V = VectorFunctionSpace(mesh, 'P', 2)\n",
        "Q = FunctionSpace(mesh, 'P', 1)\n",
        "W = MixedFunctionSpace([V, Q])\n",
        "\n",
        "bc1 = DirichletBC(W.sub(0), Constant((0., 0.)), 3)\n",
        "bc3 = DirichletBC(W.sub(0), Constant((0., 0.)), 3)\n",
        "bc4 = DirichletBC(W.sub(0), Constant((1., 0.)), 4)\n",
        "bcs = (bc3, bc4)\n"
      ],
      "metadata": {
        "id": "DlgSHCvisWce"
      },
      "id": "DlgSHCvisWce",
      "execution_count": null,
      "outputs": []
    },
    {
      "cell_type": "code",
      "source": [
        "# Solve Stokes on (0,1)^2 with fully Dirichlet BC.\n",
        "# Inputs: n         = mesh subdivisions along each direction\n",
        "#         degreeU   = polynomial degree of velocity space\n",
        "#         degreeU   = polynomial degree of velocity space\n",
        "#         gD_fun    = Dirichlet data (generic function)\n",
        "#         f_fun     = source term (generic function)\n",
        "def solve_stokes(n, degreeU, degreeP, gD_fun, f_fun):\n",
        "    # Mesh definition\n",
        "    mesh = UnitSquareMesh(n, n, 'crossed')\n",
        "\n",
        "    V = VectorFunctionSpace(mesh, 'P',degreeU)\n",
        "\n",
        "    if degreeP==0:\n",
        "        Q = FunctionSpace(mesh, 'DP', 0) #P0 element is discontinuous\n",
        "    else:\n",
        "        Q = FunctionSpace(mesh, 'P', degreeP)\n",
        "\n",
        "    W = MixedFunctionSpace([V, Q])\n",
        "\n",
        "    # The data generic expression are interpolated on the current mesh.\n",
        "    x = SpatialCoordinate(mesh)\n",
        "    gD = gD_fun(x)\n",
        "    f = f_fun(x)\n",
        "\n",
        "\n",
        "\n",
        "\n",
        "\n",
        "\n",
        "\n",
        "\n",
        "    bc = DirichletBC(W.sub(0),gD,(1,2,3,4))\n",
        "\n",
        "    # Variational formulation\n",
        "    u, p = TrialFunctions(W)\n",
        "    v, q = TestFunctions(W)\n",
        "\n",
        "    a = inner(grad(u),grad(v))*dx -div(v)*p*dx -div(u)*q*dx\n",
        "    L = inner(f,v)*dx #for tensors\n",
        "\n",
        "    # Solution\n",
        "    #fully dirichlet ->nullspace is p=const\n",
        "\n",
        "    nullsp=MixedVectorSpaceBasis(W.sub(0),[VectorSpaceBasis(constant=True)])\n",
        "\n",
        "    w = Function(W)\n",
        "    solve( a==L,w,bcs=list(bc),nullspace=nullsp)\n",
        "    u, p = w.split()\n",
        "\n",
        "    return u, p, mesh"
      ],
      "metadata": {
        "id": "7i8hA_rRsWec"
      },
      "id": "7i8hA_rRsWec",
      "execution_count": null,
      "outputs": []
    },
    {
      "cell_type": "code",
      "source": [
        "\n",
        "n_vec = np.array((10, 20, 40))\n",
        "err_u_L2 = np.zeros(n_vec.shape[0])\n",
        "err_u_H1 = np.zeros(n_vec.shape[0])\n",
        "err_p_L2 = np.zeros(n_vec.shape[0])\n",
        "err_p_H1 = np.zeros(n_vec.shape[0])\n",
        "\n",
        "# Exact solution and source term as general functions:\n",
        "# to avoid mesh dependence, we define them as lambda functions.\n",
        "u_ex_fun = lambda x: as_vector((\n",
        "    -cos(x[0]) * sin(x[1]),\n",
        "    sin(x[0]) * cos(x[1])))\n",
        "\n",
        "p_ex_fun = lambda x: -1/4.0*(cos(2*x[0])+cos(2*x[1])) +(sin(2.0)/4.0)\n",
        "\n",
        "f_fun = lambda x: as_vector((\n",
        "    -2*cos(x[0])*sin(x[1])+ 1/2.0 *sin(2*x[0]),\n",
        "    2*sin(x[0])*cos(x[1])+ 1/2.0 *sin(2*x[1]) ))\n",
        "\n",
        "for ii in range(n_vec.shape[0]):\n",
        "    n = n_vec[ii]\n",
        "    uh, ph, mesh = solve_stokes(n, 2, 1, u_ex_fun, f_fun)\n",
        "\n",
        "    # Interpolate lambda functions on current mesh\n",
        "    x = SpatialCoordinate(mesh)\n",
        "    u_ex =u_ex_fun(x)\n",
        "    p_ex = p_ex_fun(x)\n",
        "\n",
        "    err_u_L2[ii] = errornorm(u_ex, uh, 'L2')\n",
        "    err_u_H1[ii] = errornorm(u_ex, uh, 'H1')\n",
        "    err_p_L2[ii] = errornorm(p_ex, ph, 'L2')\n",
        "\n",
        "\n",
        "    print('n = ', n_vec[ii])\n",
        "    print('L2 error, velocity = ', err_u_L2[ii])\n",
        "    print('H1 error, velocity = ', err_u_H1[ii])\n",
        "    print('L2 error, pressure = ', err_p_L2[ii])"
      ],
      "metadata": {
        "id": "c3I6yP35sWhS"
      },
      "id": "c3I6yP35sWhS",
      "execution_count": null,
      "outputs": []
    },
    {
      "cell_type": "code",
      "source": [
        "fig, ax = plt.subplots()\n",
        "col = tripcolor(ph, axes=ax)\n",
        "plt.colorbar(col)\n",
        "plt.title('pressure')\n",
        "fig, ax = plt.subplots()\n",
        "col = quiver(uh, axes=ax)\n",
        "plt.colorbar(col)\n",
        "plt.title('velocity')\n",
        "\n",
        "\n",
        "#pressure high if you don't make Q=L0^2"
      ],
      "metadata": {
        "id": "gEwF0a6M0uSv"
      },
      "id": "gEwF0a6M0uSv",
      "execution_count": null,
      "outputs": []
    },
    {
      "cell_type": "code",
      "source": [
        "H=[1/n for n in n_vec]\n",
        "print(H)\n"
      ],
      "metadata": {
        "id": "jMY2DmFH42lC"
      },
      "id": "jMY2DmFH42lC",
      "execution_count": null,
      "outputs": []
    },
    {
      "cell_type": "code",
      "source": [
        "\n",
        "\n",
        "plt.figure(figsize=(8, 6))\n",
        "plt.loglog(H, err_u_L2, marker='o', linestyle='-', color='b', label='ErrorL2 for v')\n",
        "plt.loglog(H,err_u_H1, marker='o', linestyle='-', color='r', label='ErrorH1 for v')\n",
        "plt.loglog(H,err_p_L2, marker='o', linestyle='-', color='g', label='ErrorH1 for p')\n",
        "\n",
        "plt.loglog(H, H, marker='o', linestyle='--', color='g', label='H')\n",
        "plt.loglog(H, H**2, marker='o', linestyle='--', color='y', label='H^2')\n",
        "plt.xlabel('Mesh Size')\n",
        "plt.title('Convergence Plot')\n",
        "plt.grid(True, which=\"both\", ls=\"--\")\n",
        "plt.legend()\n",
        "plt.show()"
      ],
      "metadata": {
        "id": "PQbRLNi14Ct5"
      },
      "id": "PQbRLNi14Ct5",
      "execution_count": null,
      "outputs": []
    },
    {
      "cell_type": "code",
      "source": [],
      "metadata": {
        "id": "w2M6pFwz7EPE"
      },
      "id": "w2M6pFwz7EPE",
      "execution_count": null,
      "outputs": []
    },
    {
      "cell_type": "code",
      "source": [],
      "metadata": {
        "id": "bQ5yEhci7EQ-"
      },
      "id": "bQ5yEhci7EQ-",
      "execution_count": null,
      "outputs": []
    },
    {
      "cell_type": "code",
      "source": [
        "varpb=LinearVariationalProblem(a,L,w,list(bc))\n",
        "\n",
        "parameters={'ksp_type':'gmres',\n",
        "            'ksp_rtol':1.e-5,\n",
        "            'ksp_max_it':10000,\n",
        "            'pc_type':'bjacobi'}\n",
        "\n",
        "solver=LinearVariationalSolver(varpb,solver-paramters=params)\n",
        "solver.solve()"
      ],
      "metadata": {
        "id": "eyvAbbJN7ETy"
      },
      "id": "eyvAbbJN7ETy",
      "execution_count": null,
      "outputs": []
    }
  ],
  "metadata": {
    "colab": {
      "private_outputs": true,
      "provenance": []
    },
    "kernelspec": {
      "display_name": "Python 3 (ipykernel)",
      "language": "python",
      "name": "python3"
    },
    "language_info": {
      "codemirror_mode": {
        "name": "ipython",
        "version": 3
      },
      "file_extension": ".py",
      "mimetype": "text/x-python",
      "name": "python",
      "nbconvert_exporter": "python",
      "pygments_lexer": "ipython3",
      "version": "3.11.5"
    }
  },
  "nbformat": 4,
  "nbformat_minor": 5
}