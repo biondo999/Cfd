{
  "cells": [
    {
      "cell_type": "code",
      "execution_count": null,
      "id": "3S6xPouYEYrq",
      "metadata": {
        "id": "3S6xPouYEYrq"
      },
      "outputs": [],
      "source": [
        "try:\n",
        "    import firedrake\n",
        "except ImportError:\n",
        "    !wget \"https://fem-on-colab.github.io/releases/firedrake-install-real.sh\" -O \"/tmp/firedrake-install.sh\" && bash \"/tmp/firedrake-install.sh\"\n",
        "    import firedrake"
      ]
    },
    {
      "cell_type": "code",
      "execution_count": null,
      "id": "0Zf-PF6eYduS",
      "metadata": {
        "id": "0Zf-PF6eYduS"
      },
      "outputs": [],
      "source": [
        "from firedrake import *\n",
        "import matplotlib.pyplot as plt\n",
        "\n",
        "import numpy as np"
      ]
    },
    {
      "cell_type": "code",
      "execution_count": null,
      "id": "GoZ-yCJ-JNIe",
      "metadata": {
        "id": "GoZ-yCJ-JNIe"
      },
      "outputs": [],
      "source": [
        "from google.colab import drive\n",
        "drive.mount('/content/drive')"
      ]
    },
    {
      "cell_type": "markdown",
      "id": "fb76042f",
      "metadata": {
        "id": "fb76042f"
      },
      "source": [
        "# Ex.1 - Stokes problem - patch test"
      ]
    },
    {
      "cell_type": "markdown",
      "id": "54e25927",
      "metadata": {
        "id": "54e25927"
      },
      "source": [
        "\\begin{equation*}\n",
        "\\begin{cases}\n",
        "- \\Delta \\boldsymbol{u} + \\nabla  p  = \\boldsymbol{0} & {\\rm in} \\ \\Omega=(0,3)\\times(0,1), \\\\\n",
        "{\\rm div}\\,\\boldsymbol{u} = 0 & {\\rm in} \\ \\Omega, \\\\\n",
        "(\\nabla\\boldsymbol{u}-pI)\\boldsymbol{n} = \\boldsymbol{0} & {\\rm on} \\ \\Gamma_1\\cup\\Gamma_2,\\\\\n",
        "\\boldsymbol{u} = \\boldsymbol{0} & {\\rm on} \\ \\Gamma_3, \\\\\n",
        "\\boldsymbol{u} = \\boldsymbol{g}_\\text{D} & {\\rm on} \\ \\Gamma_4.\n",
        "\\end{cases}\n",
        "\\end{equation*}\n",
        "\n",
        "with $\\boldsymbol{g}_\\text{D} = 1\\boldsymbol{i}$."
      ]
    },
    {
      "cell_type": "code",
      "execution_count": null,
      "id": "dd3fb78d",
      "metadata": {
        "id": "dd3fb78d"
      },
      "outputs": [],
      "source": [
        "from firedrake import RectangleMesh\n",
        "\n",
        "# Build the mesh\n",
        "n = 10\n",
        "mesh = RectangleMesh(3*n, n, 3, 1)\n",
        "\n",
        "fig, ax = plt.subplots()\n",
        "triplot(mesh, axes=ax)\n",
        "ax.legend()"
      ]
    },
    {
      "cell_type": "code",
      "execution_count": null,
      "id": "9087971a",
      "metadata": {
        "id": "9087971a"
      },
      "outputs": [],
      "source": [
        "# Function spaces\n",
        "\n",
        "# P1-P0\n",
        "V = VectorFunctionSpace(mesh, 'P', 1)\n",
        "Q = FunctionSpace(mesh, 'DP', 0) # NB: P0 are DISCONTINUOUS elements (DP)\n",
        "\n",
        "# P1-P1\n",
        "# V = VectorFunctionSpace(mesh, 'P', 1)\n",
        "# Q = FunctionSpace(mesh, 'P', 1)\n",
        "\n",
        "# P1b-P1\n",
        "# The enrichment of the velocity space has to be done at the finite element level\n",
        "V1_el = FiniteElement('CG', mesh.ufl_cell(), 1)\n",
        "B_el = FiniteElement('Bubble', mesh.ufl_cell(), mesh.topological_dimension() + 1)\n",
        "V_el = VectorElement(NodalEnrichedElement(V1_el, B_el))\n",
        "V = FunctionSpace(mesh, V_el)\n",
        "Q = FunctionSpace(mesh, 'P', 1)\n",
        "\n",
        "# P2-P1\n",
        "# V = VectorFunctionSpace(mesh, 'P', 2)\n",
        "# Q = FunctionSpace(mesh, 'P', 1)\n",
        "\n",
        "W = MixedFunctionSpace([V, Q])\n",
        "print('Ndofs - velocity :',V.dim(),', pressure :',Q.dim(),', total :',W.dim())\n",
        "\n",
        "# Finite element functions\n",
        "u, p = TrialFunctions(W)\n",
        "v, q = TestFunctions(W)"
      ]
    },
    {
      "cell_type": "code",
      "execution_count": null,
      "id": "LauaVANKWzlK",
      "metadata": {
        "id": "LauaVANKWzlK"
      },
      "outputs": [],
      "source": [
        "# Boundary conditions (strong)\n",
        "bc3 = DirichletBC(W.sub(0), Constant((0., 0.)), 3)\n",
        "bc4 = DirichletBC(W.sub(0), Constant((1., 0.)), 4)\n",
        "bcs = (bc3, bc4)\n",
        "\n",
        "# Variational formulation\n",
        "a = inner(grad(u), grad(v)) * dx - div(v) * p * dx + q * div(u) * dx\n",
        "L = inner(Constant((0.0,0.0)), v) * dx\n",
        "  # Dummy rhs (=0) to ensure that the solve recognize a==L as a linear problem\n",
        "\n",
        "# Solution (NB: do not use the same name u,v,p,q of the trial/test functions)\n",
        "wh = Function(W)\n",
        "solve(a == L, wh, bcs=bcs)\n",
        "uh, ph = wh.subfunctions"
      ]
    },
    {
      "cell_type": "code",
      "execution_count": null,
      "id": "ZUBrcqxpXwCd",
      "metadata": {
        "id": "ZUBrcqxpXwCd"
      },
      "outputs": [],
      "source": [
        "# Variational formulation (penalty method)\n",
        "eps = 1.e-30\n",
        "a = inner(grad(u), grad(v)) * dx - div(v) * p * dx + q * div(u) * dx \\\n",
        "    + 1./eps*inner(u,v)*ds(3) + 1./eps*inner(u,v)*ds(4)\n",
        "L = 1./eps*inner(Constant((1.,0.)),v) * ds(4)\n",
        "\n",
        "# Solution (NB: do not use the same name u,v,p,q of the trial/test functions)\n",
        "wh = Function(W)\n",
        "solve(a == L, wh, bcs=bcs)\n",
        "uh, ph = wh.subfunctions"
      ]
    },
    {
      "cell_type": "code",
      "execution_count": null,
      "id": "g7Ajq56OMJwx",
      "metadata": {
        "id": "g7Ajq56OMJwx"
      },
      "outputs": [],
      "source": [
        "fig, ax = plt.subplots()\n",
        "col = tripcolor(ph, axes=ax)\n",
        "plt.colorbar(col)\n",
        "plt.title('pressure')\n",
        "fig, ax = plt.subplots()\n",
        "col = quiver(uh, axes=ax)\n",
        "plt.colorbar(col)\n",
        "plt.title('velocity')"
      ]
    },
    {
      "cell_type": "code",
      "execution_count": null,
      "id": "dXLlkDHTh2ef",
      "metadata": {
        "id": "dXLlkDHTh2ef"
      },
      "outputs": [],
      "source": [
        "# Error computation\n",
        "x = SpatialCoordinate(mesh)\n",
        "u_ex = as_vector([x[1],0.])\n",
        "grad_u_ex = as_tensor([[0.,1.],[0.,0.]])\n",
        "p_ex = Constant(0.)\n",
        "errL2u = sqrt(assemble( inner(uh-u_ex,uh-u_ex) * dx ))\n",
        "errH10u = sqrt(assemble( inner(grad(uh)-grad_u_ex,grad(uh)-grad_u_ex) * dx ))\n",
        "errL2p = sqrt(assemble( inner(ph-p_ex,ph-p_ex) * dx ))\n",
        "print('Errors - L2-u:', errL2u, ', H10-u:', errH10u, ', L2-p:', errL2p)"
      ]
    }
  ],
  "metadata": {
    "colab": {
      "private_outputs": true,
      "provenance": []
    },
    "kernelspec": {
      "display_name": "Python 3 (ipykernel)",
      "language": "python",
      "name": "python3"
    },
    "language_info": {
      "codemirror_mode": {
        "name": "ipython",
        "version": 3
      },
      "file_extension": ".py",
      "mimetype": "text/x-python",
      "name": "python",
      "nbconvert_exporter": "python",
      "pygments_lexer": "ipython3",
      "version": "3.11.5"
    }
  },
  "nbformat": 4,
  "nbformat_minor": 5
}