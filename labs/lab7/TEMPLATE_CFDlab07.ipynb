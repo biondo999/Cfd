{
  "cells": [
    {
      "cell_type": "markdown",
      "metadata": {
        "id": "view-in-github",
        "colab_type": "text"
      },
      "source": [
        "<a href=\"https://colab.research.google.com/github/biondo999/Cfd/blob/main/labs/lab7/TEMPLATE_CFDlab07.ipynb\" target=\"_parent\"><img src=\"https://colab.research.google.com/assets/colab-badge.svg\" alt=\"Open In Colab\"/></a>"
      ]
    },
    {
      "cell_type": "code",
      "execution_count": null,
      "id": "3S6xPouYEYrq",
      "metadata": {
        "id": "3S6xPouYEYrq"
      },
      "outputs": [],
      "source": [
        "try:\n",
        "    import firedrake\n",
        "except ImportError:\n",
        "    !wget \"https://fem-on-colab.github.io/releases/firedrake-install-real.sh\" -O \"/tmp/firedrake-install.sh\" && bash \"/tmp/firedrake-install.sh\"\n",
        "    import firedrake"
      ]
    },
    {
      "cell_type": "code",
      "execution_count": null,
      "id": "GoZ-yCJ-JNIe",
      "metadata": {
        "id": "GoZ-yCJ-JNIe"
      },
      "outputs": [],
      "source": [
        "from google.colab import drive\n",
        "drive.mount('/content/drive')"
      ]
    },
    {
      "cell_type": "code",
      "execution_count": null,
      "id": "0Zf-PF6eYduS",
      "metadata": {
        "id": "0Zf-PF6eYduS"
      },
      "outputs": [],
      "source": [
        "from firedrake import *\n",
        "import matplotlib.pyplot as plt\n",
        "import numpy as np\n",
        "\n",
        "from firedrake.petsc import PETSc"
      ]
    },
    {
      "cell_type": "code",
      "execution_count": null,
      "id": "960418a8",
      "metadata": {
        "id": "960418a8"
      },
      "outputs": [],
      "source": [
        "# Get current path: all relative paths that you may use for input/output start from here.\n",
        "#\n",
        "# - Colab:  The default path is /content, and your GDrive folder is accessible (if mounted) at /content/drive/MyDrive\n",
        "#\n",
        "# - local:  If running on your local machine, current_path is the position WHERE YOU LAUNCHED THE NOTEBOOK KERNEL BY 'jupyter notebook'\n",
        "#           and NOT the directory in which this ipynb file is saved.\n",
        "#           If you want to modify your current path, go to the terminal, stop the kernel (ctrl-C + press y), then move to the desired path by\n",
        "#           cd my/desired/path/starting/from/here\n",
        "#           and then launch 'jupyter notebook'.\n",
        "import os\n",
        "current_path = os.getcwd()\n",
        "print(current_path)\n",
        "\n",
        "# my_io_path = '/content/drive/MyDrive/Colab Notebooks/CFD2324/'\n",
        "my_io_path = '/content/drive/MyDrive/Cfd/lab7'+'/'\n",
        "print(my_io_path)"
      ]
    },
    {
      "cell_type": "markdown",
      "id": "54cfcfe4",
      "metadata": {
        "id": "54cfcfe4"
      },
      "source": [
        "---\n",
        "---\n",
        "# Exercise 1"
      ]
    },
    {
      "cell_type": "markdown",
      "id": "54e25927",
      "metadata": {
        "id": "54e25927"
      },
      "source": [
        "\\begin{equation*}\n",
        "\\begin{cases}\n",
        "(\\boldsymbol{u}\\cdot\\nabla)\\boldsymbol{u} - \\nu\\Delta \\boldsymbol{u} + \\nabla  p  = \\boldsymbol{0} & {\\rm in} \\ \\Omega, \\\\\n",
        "{\\rm div}\\,\\boldsymbol{u} = 0 & {\\rm in} \\ \\Omega, \\\\\n",
        "\\boldsymbol{u} = 4y(1-y)\\boldsymbol{i} & {\\rm on} \\ \\Gamma_{\\rm in}, \\\\\n",
        "(\\nu\\nabla\\boldsymbol{u} - pI)\\boldsymbol{n} = \\boldsymbol{0} & {\\rm on} \\ \\Gamma_{\\rm out}, \\\\\n",
        "\\left[\\begin{aligned}\n",
        "\\text{(i) }&\\boldsymbol{u} = \\boldsymbol{0}\\\\\n",
        "\\text{(ii) }&\\boldsymbol{u}\\cdot\\boldsymbol{n} = 0, \\quad (\\nu\\nabla\\boldsymbol{u}-pI)\\boldsymbol{n} \\cdot \\boldsymbol{t} = 0\n",
        "\\end{aligned}\\right]\n",
        "& {\\rm on} \\ \\Gamma_{\\rm wall}=\\partial\\Omega\\setminus(\\Gamma_{\\rm in}\\cup\\Gamma_{\\rm out}). \\\\\n",
        "\\end{cases}\n",
        "\\end{equation*}"
      ]
    },
    {
      "cell_type": "code",
      "execution_count": null,
      "id": "a5fc2e50",
      "metadata": {
        "id": "a5fc2e50"
      },
      "outputs": [],
      "source": [
        "# Import mesh: set the path correctly!\n",
        "# See cell before Exercise 1 about current path.\n",
        "\n",
        "#mesh = Mesh(my_io_path+'meshes/elbow3bis.msh')\n",
        "my_mesh='/content/drive/MyDrive/Cfd/lab7/elbow3bis.msh'\n",
        "mesh=Mesh(my_mesh)\n",
        "\n",
        "fig, ax = plt.subplots()\n",
        "triplot(mesh, axes=ax)\n",
        "ax.legend(loc='upper left')"
      ]
    },
    {
      "cell_type": "markdown",
      "id": "c72121a0",
      "metadata": {
        "id": "c72121a0"
      },
      "source": [
        "### Variational form - residual"
      ]
    },
    {
      "cell_type": "code",
      "execution_count": null,
      "id": "a3e8344b",
      "metadata": {
        "id": "a3e8344b"
      },
      "outputs": [],
      "source": [
        "# inputs:   uh, ph  components of an actual Function (NOT trial functions)\n",
        "#           v, q    components of a TestFunction\n",
        "#           nu, f   viscosity and source function\n",
        "# output:   G       linear form (i.e. functional) representing the evaluation of\n",
        "#                   the residual for a given solution (uh,ph), for any test function\n",
        "def nonlinear_problem_residual(uh, v, ph, q, nu, f):\n",
        "    G= nu*inner(grad(uh),grad(v))*dx +dot(dot(grad(uh),uh),v)*dx  -ph*div(v)*dx +q*div(uh)*dx  #dot for matrix vec multi\n",
        "\n",
        "    return G"
      ]
    },
    {
      "cell_type": "markdown",
      "id": "8DlLjewiIBCu",
      "metadata": {
        "id": "8DlLjewiIBCu"
      },
      "source": [
        "### FE spaces, data, BCs"
      ]
    },
    {
      "cell_type": "code",
      "execution_count": null,
      "id": "f43293fe",
      "metadata": {
        "id": "f43293fe"
      },
      "outputs": [],
      "source": [
        "# Function spaces (mixed formulation)\n",
        "V = VectorFunctionSpace(mesh, 'P', 2)\n",
        "Q = FunctionSpace(mesh, 'P', 1)\n",
        "W = MixedFunctionSpace([V, Q])\n",
        "\n",
        "# Data and boundary conditions\n",
        "nu = 0.02\n",
        "f = Constant((0.,0.))\n",
        "x = SpatialCoordinate(mesh)\n",
        "\n",
        "u_in = (4*x[1]*(1-x[1]), 0.)\n",
        "\n",
        "\n",
        "\n",
        "bc_in = DirichletBC(W.sub(0),u_in , (1))\n",
        "\n",
        "#bc_freeslip_x=DirichletBC(W.sub(1),Constant(0.), (32,42))\n",
        "#bc_freeslip_y=DirichletBC(W.sub(1),Constant(0.), (31,33,41,43))\n",
        "\n",
        "bc_wall=bc_freeslip_x= DirichletBC(W.sub(0),Constant((0.,0.)), (31,32,33,41,42,43))\n",
        "\n",
        "bcs = (bc_in,bc_wall)\n"
      ]
    },
    {
      "cell_type": "markdown",
      "id": "JGCdW8DuKM2r",
      "metadata": {
        "id": "JGCdW8DuKM2r"
      },
      "source": [
        "### Assembly of the residual"
      ]
    },
    {
      "cell_type": "code",
      "execution_count": null,
      "id": "aa67b76b",
      "metadata": {
        "id": "aa67b76b"
      },
      "outputs": [],
      "source": [
        "wh = Function(W)\n",
        "uh, ph = split(wh)\n",
        "v, q = TestFunctions(W)\n",
        "# NB:   wh (and also uh,ph) must be created before creating G.\n",
        "#       If you re-define wh (or uh,ph), you MUST re-compute G,\n",
        "#       since G is the evaluation of the residual on a specific wh.\n",
        "\n",
        "# Notice that G needs to be a functional, not a bilinear form\n",
        "G = nonlinear_problem_residual(uh, v, ph, q, nu, f)\n",
        "print(len(G.arguments()))   # 1: only test function\n",
        "\n",
        "u, p = TrialFunctions(W)\n",
        "print(len((inner(u,v)*dx).arguments())) # 2: trial and test functions"
      ]
    },
    {
      "cell_type": "markdown",
      "id": "b771dd2e",
      "metadata": {
        "id": "b771dd2e"
      },
      "source": [
        "### Actual solution"
      ]
    },
    {
      "cell_type": "code",
      "execution_count": null,
      "id": "zpF7APReASq1",
      "metadata": {
        "id": "zpF7APReASq1"
      },
      "outputs": [],
      "source": [
        "param=( {'snes_type':'newtonls', # nonlinear solver types: https://petsc.org/release/manual/snes/#the-nonlinear-solvers\n",
        "       'snes_monitor':'',        # activate logging options\n",
        "       'snes_monitoring_lg_residualnorm':'', # print ||G|| at each iteration\n",
        "       'snes_rtol':1e-6, 'snes_atol':1e-10, 'snes_stol':1e-14, 'snes_maxit':1000\n",
        "       })\n",
        "solve(G == 0, wh, bcs=bcs, solver_parameters=param)\n",
        "\n",
        "# Equivalent:\n",
        "#     nlvpb = NonlinearVariationalProblem(G, wh, bcs=bcs)\n",
        "#     param = ...\n",
        "#     solver = NonlinearVariationalSolver(nlvpb, solver_parameters=param)\n",
        "#     solver.solve()"
      ]
    },
    {
      "cell_type": "markdown",
      "id": "9PwoiJuUF7-U",
      "metadata": {
        "id": "9PwoiJuUF7-U"
      },
      "source": [
        "### Stream function problem"
      ]
    },
    {
      "cell_type": "code",
      "execution_count": null,
      "id": "Y5GodSgBF6yd",
      "metadata": {
        "id": "Y5GodSgBF6yd"
      },
      "outputs": [],
      "source": [
        "Z = FunctionSpace(mesh, 'P', 1)\n",
        "psi = TrialFunction(Z)\n",
        "eta = TestFunction(Z)\n",
        "\n",
        "a_stream = inner(grad(psi), grad(eta)) * dx\n",
        "# omega = Dx(uh.sub(1),0) - Dx(uh.sub(0),1)   # by components (UFL syntax)\n",
        "omega = rot(uh)                               # by pre-defined UFL command\n",
        "L_stream = inner( omega , eta) * dx\n",
        "\n",
        "# # On the mesh elbow3.msh\n",
        "# bc_stream_1 = DirichletBC(Z, Constant(2.0/3.0), 3)\n",
        "# bc_stream_2 = DirichletBC(Z, Constant(0.0), 4)\n",
        "\n",
        "# On the mesh elbow3bis.msh\n",
        "bc_stream_1 = DirichletBC(Z, Constant(2.0/3.0), (31,32,33))\n",
        "bc_stream_2 = DirichletBC(Z, Constant(0.0), (41,42,43))\n",
        "\n",
        "bcs_stream = (bc_stream_1, bc_stream_2)\n",
        "\n",
        "psi_h = Function(Z)\n",
        "solve(a_stream == L_stream, psi_h, bcs_stream)"
      ]
    },
    {
      "cell_type": "markdown",
      "id": "lnaQgldeMZR1",
      "metadata": {
        "id": "lnaQgldeMZR1"
      },
      "source": [
        "### Post-processing"
      ]
    },
    {
      "cell_type": "code",
      "execution_count": null,
      "id": "5cO6x2n0FUrg",
      "metadata": {
        "id": "5cO6x2n0FUrg"
      },
      "outputs": [],
      "source": [
        "# WARNING\n",
        "# uh,ph were created as split(wh), by which uh,ph are proxies to access wh:\n",
        "# this is NECESSARY for the residual G to have the suitable type for Firedrake's nonlinear solver.\n",
        "# For post-processing, instead, we need a more \"direct\" access to the FE functions\n",
        "# corresponding to the velocity and pressure component of the solution:\n",
        "# this is achieved by wh.subfunctions\n",
        "uh_out, ph_out = wh.subfunctions\n",
        "\n",
        "fig, ax = plt.subplots()\n",
        "col = tripcolor(ph_out, axes=ax)\n",
        "plt.colorbar(col)\n",
        "plt.title('pressure')\n",
        "\n",
        "fig, ax = plt.subplots()\n",
        "col = quiver(uh_out, axes=ax)\n",
        "plt.colorbar(col)\n",
        "plt.title('velocity')\n",
        "\n",
        "col = tricontour(psi_h) # psi_h is already a Function: do not need to extract components\n",
        "plt.colorbar(col)\n",
        "\n",
        "# vtk output for Paraview\n",
        "basename = 'lab07_elbow3_noslip_'\n",
        "outfileU = File(my_io_path+\"output/\"+basename+\"velocity.pvd\")\n",
        "outfileP = File(my_io_path+\"output/\"+basename+\"pressure.pvd\")\n",
        "outfilePsi = File(my_io_path+\"output/\"+basename+\"stream.pvd\")\n",
        "uh_out.rename(\"Velocity\")   # this names will be used in Paraview\n",
        "ph_out.rename(\"Pressure\")\n",
        "psi_h.rename(\"psi\")\n",
        "outfileU.write(uh_out)\n",
        "outfileP.write(ph_out)\n",
        "outfilePsi.write(psi_h)"
      ]
    },
    {
      "cell_type": "code",
      "execution_count": null,
      "id": "h_pUIWqdMbJA",
      "metadata": {
        "id": "h_pUIWqdMbJA"
      },
      "outputs": [],
      "source": [
        "normal = FacetNormal(mesh)\n",
        "drag = ...\n",
        "print('Drag force on lower, downstream wall =', drag)\n",
        "\n",
        "delta_p = (\n",
        "    ...\n",
        ")\n",
        "print('Total pressure jump =', delta_p)"
      ]
    },
    {
      "cell_type": "markdown",
      "id": "AECX7hAmIRUJ",
      "metadata": {
        "id": "AECX7hAmIRUJ"
      },
      "source": [
        "---\n",
        "---\n",
        "# Exercise 2 - homework"
      ]
    },
    {
      "cell_type": "markdown",
      "id": "9qpmYCCnJb_S",
      "metadata": {
        "id": "9qpmYCCnJb_S"
      },
      "source": [
        "\\begin{equation*}\n",
        "\\begin{cases}\n",
        "\\frac{\\partial\\boldsymbol{u}}{\\partial t} + (\\boldsymbol{u}\\cdot\\nabla)\\boldsymbol{u} - \\frac{1}{\\rm Re}\\Delta \\boldsymbol{u} + \\nabla  p  = \\boldsymbol{0} & {\\rm in} \\ \\Omega, t\\in(0,T), \\\\\n",
        "{\\rm div}\\,\\boldsymbol{u} = 0 & {\\rm in} \\ \\Omega, t\\in(0,T), \\\\\n",
        "\\boldsymbol{u} = 1\\boldsymbol{i} & {\\rm on} \\ \\Gamma_{\\rm in}, t\\in(0,T), \\\\\n",
        "(\\nu\\nabla\\boldsymbol{u} - pI)\\boldsymbol{n} = \\boldsymbol{0} & {\\rm on} \\ \\Gamma_{\\rm out}, t\\in(0,T), \\\\\n",
        "\\boldsymbol{u}\\cdot\\boldsymbol{n} = 0, \\quad (\\nu\\nabla\\boldsymbol{u}-pI)\\boldsymbol{n} \\cdot \\boldsymbol{t} = 0\n",
        "& {\\rm on} \\ \\Gamma_{\\rm wall}, t\\in(0,T),\\\\\n",
        "\\boldsymbol{u}=\\boldsymbol{0} & {\\rm on} \\ \\Gamma_{\\rm cyl}, t\\in(0,T),\\\\\n",
        "\\boldsymbol{u}=\\boldsymbol{0} & {\\rm in} \\ \\Omega, t=0.\n",
        "\\end{cases}\n",
        "\\end{equation*}"
      ]
    },
    {
      "cell_type": "code",
      "execution_count": null,
      "id": "RXNYIn8SISfY",
      "metadata": {
        "id": "RXNYIn8SISfY"
      },
      "outputs": [],
      "source": [
        "# Import mesh: set the path correctly!\n",
        "# See cell before Exercise 1 about current path.\n",
        "mesh = Mesh(my_io_path+'meshes/cylinder-ns.msh')\n",
        "fig, ax = plt.subplots()\n",
        "triplot(mesh, axes=ax)\n",
        "ax.legend(loc='upper right')"
      ]
    },
    {
      "cell_type": "markdown",
      "id": "1T5ueo7lKkhi",
      "metadata": {
        "id": "1T5ueo7lKkhi"
      },
      "source": [
        "### FE spaces, data, BCs"
      ]
    },
    {
      "cell_type": "code",
      "execution_count": null,
      "id": "WGKlEh8HIZ5R",
      "metadata": {
        "id": "WGKlEh8HIZ5R"
      },
      "outputs": [],
      "source": [
        "..."
      ]
    },
    {
      "cell_type": "markdown",
      "metadata": {
        "id": "PngB7ry5Vzpj"
      },
      "source": [
        "### Variational problem - residual"
      ],
      "id": "PngB7ry5Vzpj"
    },
    {
      "cell_type": "code",
      "execution_count": null,
      "metadata": {
        "id": "nK9i9FgnVzpj"
      },
      "outputs": [],
      "source": [
        "# inputs:   uh, ph  components of an actual Function (NOT trial functions)\n",
        "#           v, q    components of a TestFunction\n",
        "#           nu, f   viscosity and source function\n",
        "#           dt      time step\n",
        "#           uh_old  velocity at previous timestep\n",
        "# output:   G       linear form (i.e. functional) representing the evaluation of\n",
        "#                   the residual for a given solution (uh,ph), for any test function\n",
        "def nonlinear_problem_residual(uh, v, ph, q, nu, f, dt, uh_old):\n",
        "    G = ...\n",
        "    return G"
      ],
      "id": "nK9i9FgnVzpj"
    },
    {
      "cell_type": "markdown",
      "id": "lT18wNs6Ko4e",
      "metadata": {
        "id": "lT18wNs6Ko4e"
      },
      "source": [
        "### Initial condition and settings"
      ]
    },
    {
      "cell_type": "code",
      "execution_count": null,
      "id": "LCt_y7ZzKcD9",
      "metadata": {
        "id": "LCt_y7ZzKcD9"
      },
      "outputs": [],
      "source": [
        "uh_old = interpolate(Constant((0., 0.)), W.sub(0))\n",
        "\n",
        "wh = Function(W)\n",
        "uh, ph = split(wh)\n",
        "# NB:   wh (and also uh,ph) must be created and properly set before assembling G.\n",
        "#       If wh (or uh,ph) changes, you MUST re-assemble G,\n",
        "#       since G is the evaluation of the residual on a specific wh.\n",
        "uh_out, ph_out = wh.subfunctions\n",
        "uh_out.assign(uh_old)       # must be done through a subfunction, not through a split component\n",
        "v, q = TestFunctions(W)\n",
        "\n",
        "t0 = 0\n",
        "T = 10.\n",
        "dt = 0.2\n",
        "export_stride = 5     # export solution every other export_stride timesteps\n",
        "time_index = 0\n",
        "\n",
        "param = ...\n",
        "\n",
        "basename = 'lab07_cylinder_'\n",
        "outfileU = File(my_io_path+\"output/\"+basename+\"velocity.pvd\")\n",
        "outfileP = File(my_io_path+\"output/\"+basename+\"pressure.pvd\")\n",
        "outfilePsi = File(my_io_path+\"output/\"+basename+\"stream.pvd\")"
      ]
    },
    {
      "cell_type": "code",
      "execution_count": null,
      "metadata": {
        "id": "g51ZIHaVVzpj"
      },
      "outputs": [],
      "source": [
        "for t in np.arange(t0, T+0.1*dt, dt):\n",
        "    print('\\ntime t = ', t)\n",
        "    time_index += 1\n",
        "\n",
        "    ... assemble and solve ...\n",
        "\n",
        "    if time_index % export_stride == 0:\n",
        "        ... rename solution variables and write to pvd files ...\n",
        "\n",
        "    uh_old.assign(uh_out)"
      ],
      "id": "g51ZIHaVVzpj"
    }
  ],
  "metadata": {
    "colab": {
      "private_outputs": true,
      "provenance": [],
      "toc_visible": true,
      "include_colab_link": true
    },
    "kernelspec": {
      "display_name": "Python 3 (ipykernel)",
      "language": "python",
      "name": "python3"
    },
    "language_info": {
      "codemirror_mode": {
        "name": "ipython",
        "version": 3
      },
      "file_extension": ".py",
      "mimetype": "text/x-python",
      "name": "python",
      "nbconvert_exporter": "python",
      "pygments_lexer": "ipython3",
      "version": "3.10.12"
    }
  },
  "nbformat": 4,
  "nbformat_minor": 5
}