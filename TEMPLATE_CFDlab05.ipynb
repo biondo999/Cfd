{
  "cells": [
    {
      "cell_type": "markdown",
      "metadata": {
        "id": "view-in-github",
        "colab_type": "text"
      },
      "source": [
        "<a href=\"https://colab.research.google.com/github/biondo999/Cfd/blob/main/TEMPLATE_CFDlab05.ipynb\" target=\"_parent\"><img src=\"https://colab.research.google.com/assets/colab-badge.svg\" alt=\"Open In Colab\"/></a>"
      ]
    },
    {
      "cell_type": "code",
      "execution_count": null,
      "id": "3S6xPouYEYrq",
      "metadata": {
        "id": "3S6xPouYEYrq"
      },
      "outputs": [],
      "source": [
        "try:\n",
        "    import firedrake\n",
        "except ImportError:\n",
        "    !wget \"https://fem-on-colab.github.io/releases/firedrake-install-real.sh\" -O \"/tmp/firedrake-install.sh\" && bash \"/tmp/firedrake-install.sh\"\n",
        "    import firedrake"
      ]
    },
    {
      "cell_type": "code",
      "execution_count": null,
      "id": "GoZ-yCJ-JNIe",
      "metadata": {
        "id": "GoZ-yCJ-JNIe"
      },
      "outputs": [],
      "source": [
        "from google.colab import drive\n",
        "drive.mount('/content/drive')"
      ]
    },
    {
      "cell_type": "code",
      "execution_count": null,
      "id": "0Zf-PF6eYduS",
      "metadata": {
        "id": "0Zf-PF6eYduS"
      },
      "outputs": [],
      "source": [
        "from firedrake import *\n",
        "import matplotlib.pyplot as plt\n",
        "import numpy as np\n",
        "\n",
        "from firedrake.petsc import PETSc"
      ]
    },
    {
      "cell_type": "markdown",
      "id": "62ae5e3e",
      "metadata": {
        "id": "62ae5e3e"
      },
      "source": [
        "### Useful classes and functions from Lab 4."
      ]
    },
    {
      "cell_type": "code",
      "execution_count": null,
      "id": "8f23e1a5",
      "metadata": {
        "id": "8f23e1a5"
      },
      "outputs": [],
      "source": [
        "# Object representing S = B*A^{-1}*B'.\n",
        "class SchurComplement(object):\n",
        "    def __init__(self, ksp_A, B):\n",
        "        self.ksp_A = ksp_A\n",
        "        self.B = B\n",
        "        self.tmp_u1 = B.createVecRight()    # vector to which we can apply B*tmp_u1\n",
        "        self.tmp_u2 = B.createVecRight()    # vector to which we can apply B*tmp_u2\n",
        "        self.tmp_p  = B.createVecLeft()     # vector in which we can store tmp_p=B*x\n",
        "    def mult(self, mat, in_vec, out_vec):\n",
        "        # Implements out_vec = B*A^{-1}*B'*in_vec\n",
        "\n",
        "        # tmp_u1 = B'*in_vec\n",
        "        self.B.multTranspose(in_vec, self.tmp_u1)\n",
        "        # tmp_u2=A^{-1}*tmp_u1   ->   solve A*tmp_u2 = tmp_u1\n",
        "        self.ksp_A.solve(self.tmp_u1, self.tmp_u2)\n",
        "        # out_vec = B*tmp_u2\n",
        "        self.B.mult(self.tmp_u2, out_vec)\n",
        "\n",
        "        # print(\"A solved in\", self.ksp_A.getIterationNumber(), \"iterations.\")\n",
        "\n",
        "\n",
        "# Create a preconditioner (see doc above on MatrixFreePC)\n",
        "# based on a PETSC.Mat and possibly using lumping or its diagonal component\n",
        "class MyMatrixPC(object):\n",
        "    # Inputs:\n",
        "    #   - mat:      the preconditioning matrix\n",
        "    #   - lumping:  if True, use the lumped version of mat\n",
        "    #   - use_diag: if True, use the diagonal component of mat\n",
        "    def __init__(self, mat, lumping, use_diag):\n",
        "        self.mat = mat\n",
        "        self.lumping = lumping\n",
        "        self.use_diag = use_diag\n",
        "        self.vec = self.mat.createVecLeft()\n",
        "\n",
        "    def setUp(self, pc):\n",
        "        # check flags\n",
        "        if self.lumping and self.use_diag:\n",
        "            raise(BaseException('Error in MyMatrixPC: you can (possibly) either use lumping or diag, not both!'))\n",
        "\n",
        "        if self.lumping:\n",
        "            # Compute mat*ones and store it in vec.\n",
        "            tmp = self.mat.createVecRight()\n",
        "            tmp.set(1.0)\n",
        "            self.mat.mult(tmp, self.vec)\n",
        "\n",
        "        elif self.use_diag:\n",
        "            self.vec = self.mat.getDiagonal()\n",
        "\n",
        "        else: # use the full matrix mat\n",
        "            S, P_S = pc.getOperators()\n",
        "            self.pc = PETSc.PC().create()\n",
        "            self.pc.setOptionsPrefix('pc_MyMatrixPC_')\n",
        "            self.pc.setOperators(self.mat)\n",
        "            self.pc.setFromOptions()\n",
        "\n",
        "        # # Print mat and vec. Uncomment only for small mesh.\n",
        "        #     np.set_printoptions(precision=5)\n",
        "        #     np.set_printoptions(linewidth=400)\n",
        "        #     np.set_printoptions(suppress=True)\n",
        "        # with dim = self.mat.getSizes()[0][0]:\n",
        "        #     print('Preconditioner: mat =', self.mat.getValues(range(dim), range(dim)))\n",
        "        # print('vec =', self.vec.getArray())\n",
        "\n",
        "    # Implement \"pc^{-1}*in_vec = out_vec\" depending on the strategy.\n",
        "    def apply(self, mat, in_vec, out_vec):\n",
        "        if self.lumping or self.use_diag:\n",
        "            # out_vec[i] = in_vec[i]/self.vec[i]\n",
        "            out_vec.pointwiseDivide(in_vec, self.vec)\n",
        "        else: # use the full matrix mat\n",
        "            self.pc.apply(in_vec, out_vec)\n",
        "\n",
        "\n",
        "# Create a preconditioner based on PETSc.Mat P and and set it into ksp.\n",
        "# Inputs:   ksp solver\n",
        "#           preconditioner P as PETSc Matrix\n",
        "def set_KSP_PC(ksp, P, lumping=False, use_diag=False):\n",
        "    if lumping and use_diag:\n",
        "        raise(BaseException('Error in set_KSP_PC: you can (possibly) either use lumping or diag, not both!'))\n",
        "    MpPC = MyMatrixPC(P, lumping, use_diag)\n",
        "    pc = ksp.pc\n",
        "    pc.setType(pc.Type.PYTHON)\n",
        "    pc.setPythonContext(MpPC)\n",
        "\n",
        "def create_ksp_schur(ksp_A, B, useNullSpace):\n",
        "    S = PETSc.Mat().create()\n",
        "    S.setSizes( B.getSize()[0], B.getSize()[0] )    # B is m-by-n  ->  S is m-by-m (square)\n",
        "    # print(\"Size   ->   A:\", A_fd.M.handle.getSize(), \"  B:\", B.getSize(), \"  S:\", S.getSize())\n",
        "    S.setType(S.Type.PYTHON)            # i.e. user-defined\n",
        "    Sctx = SchurComplement(ksp_A, B)    # build the matrix \"context\" [ https://www.firedrakeproject.org/petsc-interface.html#building-an-operator ]\n",
        "    S.setPythonContext(Sctx)            # set context into S\n",
        "    S.setUp()\n",
        "\n",
        "    if useNullSpace:\n",
        "        null_vec = S.createVecLeft()\n",
        "        null_vec.array[:] = np.sqrt(1.0/null_vec.getSize())\n",
        "        null_vec.normalize()\n",
        "        nsp = PETSc.NullSpace().create(vectors=[null_vec])\n",
        "        S.setNullSpace(nsp)\n",
        "\n",
        "    ksp_S = PETSc.KSP().create()\n",
        "    ksp_S.setType('cg')     # S is positive definite\n",
        "    ksp_S.setOperators(S)\n",
        "\n",
        "    return ksp_S"
      ]
    },
    {
      "cell_type": "markdown",
      "id": "54cfcfe4",
      "metadata": {
        "id": "54cfcfe4"
      },
      "source": [
        "---\n",
        "---\n",
        "# Exercise 1\n",
        "## Solve unsteady Navier-Stokes problem by Schur-complement method."
      ]
    },
    {
      "cell_type": "markdown",
      "id": "54e25927",
      "metadata": {
        "id": "54e25927"
      },
      "source": [
        "\\begin{equation*}\n",
        "\\begin{cases}\n",
        "\\frac{\\partial\\boldsymbol{u}}{\\partial t} + (\\boldsymbol{u}\\cdot\\nabla)\\boldsymbol{u} - \\frac{1}{\\rm Re}\\Delta \\boldsymbol{u} + \\nabla  p  = \\boldsymbol{f} & {\\rm in} \\ \\Omega=(0,1)^2\n",
        "\\quad\\forall t\\in(0,1), \\\\\n",
        "{\\rm div}\\,\\boldsymbol{u} = 0 & {\\rm in} \\ \\Omega\n",
        "\\quad\\forall t\\in(0,1), \\\\\n",
        "\\boldsymbol{u} = \\boldsymbol{u}_\\text{ex} & {\\rm on} \\ \\partial\\Omega\n",
        "\\quad\\forall t\\in(0,1), \\\\\n",
        "\\boldsymbol{u} = \\boldsymbol{0} & {\\rm in} \\ \\Omega,\n",
        "\\quad{\\rm for} \\ t=0.\n",
        "\\end{cases}\n",
        "\\end{equation*}"
      ]
    },
    {
      "cell_type": "markdown",
      "id": "a591fe47",
      "metadata": {
        "id": "a591fe47"
      },
      "source": [
        "### Point 3. Assemble the matrices defining the problem (penalty method for Dirichlet BCs)."
      ]
    },
    {
      "cell_type": "code",
      "execution_count": null,
      "id": "d430b463",
      "metadata": {
        "id": "d430b463"
      },
      "outputs": [],
      "source": [
        "def ex1_assemble_Euler(V, Q, Re, n, dt, t, u_old, u_ex_fun, p_ex_fun, f_fun):\n",
        "    # Trial and test functions.\n",
        "\n",
        "    u=TrialFunction(V)\n",
        "    v=TestFunction(V)\n",
        "    p=TrialFunction(Q)\n",
        "    q=TestFunction(Q)\n",
        "\n",
        "\n",
        "    # Data.\n",
        "    x = SpatialCoordinate(mesh)\n",
        "    u_ex=u_ex_fun(x,t)\n",
        "    f=f_fun(x,t)\n",
        "\n",
        "\n",
        "    # Variational forms with the penalty method for Dirichlet boundary conditions.\n",
        "    eps = 1e-30\n",
        "    a= 1.0/dt *inner(u,v)*dx +1.0/Re *inner(grad(u),grad(v))*dx \\\n",
        "        +inner(dot(grad(u),u_old),v)*dx \\\n",
        "        +1/eps *inner(u,v)*ds\n",
        "    b=-div(u)*q*dx\n",
        "    L=inner(f,v)*dx +1.0/dt *inner(u_old,v)*dx \\\n",
        "       +1.0/eps *inner(u_ex,v)*ds\n",
        "\n",
        "\n",
        "    # Assemble matrices: all PETSc types.\n",
        "    A=assemble(a).M.handle\n",
        "    B=assemble(b).M.handle\n",
        "    F=assemble(L)\n",
        "\n",
        "    return V, Q, A, B, F\n",
        "\n",
        "\n",
        "def ex1_assemble_finalize(A, B, P, F, setupSchurNullSpace=False):\n",
        "    ksp_UU = PETSc.KSP().create()\n",
        "    ksp_UU.setType('preonly')   # direct solver\n",
        "    ksp_UU.pc.setType('lu')\n",
        "    ksp_UU.setOperators(A)\n",
        "    ksp_UU.setFromOptions()\n",
        "    ksp_UU.setUp()\n",
        "\n",
        "    # Set verbose to True for detailed logging of ksp_S.\n",
        "    # These options are stored GLOBALLY: petsc_options is just a proxy.\n",
        "    petsc_options = PETSc.Options()\n",
        "    verbose = False\n",
        "    if verbose:\n",
        "        petsc_options['ksp_view'] = ''\n",
        "        petsc_options['ksp_monitor_true_residual'] = ''\n",
        "    else:\n",
        "        del petsc_options['ksp_view']\n",
        "        del petsc_options['ksp_monitor_true_residual']\n",
        "\n",
        "    ksp_S = create_ksp_schur(ksp_UU, B, setupSchurNullSpace)\n",
        "\n",
        "   # ... set preconditioner in kps_S ...\n",
        "\n",
        "    # Finalize setup of ksp_S.\n",
        "    ksp_S.setFromOptions()\n",
        "    ksp_S.setUp()\n",
        "\n",
        "    return ksp_UU, ksp_S, F"
      ]
    },
    {
      "cell_type": "code",
      "execution_count": null,
      "id": "6a662ade",
      "metadata": {
        "id": "6a662ade"
      },
      "outputs": [],
      "source": [
        "# solve problem\n",
        "\n",
        "def ex1_solve(V, Q, ksp_A, B, ksp_S, vecF):\n",
        "    # Actual functions to store solution and to create temporary vectors.\n",
        "    uh = Function(V)\n",
        "    ph = Function(Q)\n",
        "    tmp_u_fun = Function(V)\n",
        "    tmp_p_fun = Function(Q)\n",
        "    rhs_p_fun = Function(Q)\n",
        "\n",
        "    with uh.vector().dat.vec_wo as vecU,\\\n",
        "      ph.vector().dat.vec_wo as vecP,\\\n",
        "      tmp_u_fun.vector().dat.vec_wo as tmp_u,\\\n",
        "      tmp_p_fun.vector().dat.vec_wo as tmp_p,\\\n",
        "      rhs_p_fun.vector().dat.vec_wo as rhs_p:\n",
        "\n",
        "      #computing chi (rhs)\n",
        "      ksp_A.solve(vecF,tmp_u)\n",
        "      B.mult(tmp_u,rhs_p)\n",
        "\n",
        "      ksp_S.solve(rhs_p,vecP)\n",
        "\n",
        "      B.multTranspose(vecP, tmp_u)\n",
        "      ksp_A.solve(vecF - tmp_u, vecU)\n",
        "\n",
        "\n",
        "\n",
        "\n",
        "    return uh, ph"
      ]
    },
    {
      "cell_type": "code",
      "source": [
        "def lab4_ex1_solve(V, Q, ksp_A, B, ksp_S, vecF):\n",
        "    # Actual functions to store solution and to create temporary vectors.\n",
        "    uh = Function(V)\n",
        "    ph = Function(Q)\n",
        "    tmp_u_fun = Function(V)\n",
        "    tmp_p_fun = Function(Q)\n",
        "    rhs_p_fun = Function(Q)\n",
        "    # Extract the dof vectors as PETSc.Vec and give them aliases.\n",
        "    # Temporary vectors are in read/write mode,\n",
        "    # while momentum rhs is in read-only mode.\n",
        "    with uh.vector().dat.vec_wo as vecU,\\\n",
        "        ph.vector().dat.vec_wo as vecP,\\\n",
        "        tmp_u_fun.vector().dat.vec_wo as tmp_u,\\\n",
        "        tmp_p_fun.vector().dat.vec_wo as tmp_p,\\\n",
        "        rhs_p_fun.vector().dat.vec_wo as rhs_p:\n",
        "\n",
        "        # rhs_p = B*(A^{-1}*F)\n",
        "        ksp_A.solve(vecF, tmp_u)\n",
        "        B.mult(tmp_u, rhs_p)\n",
        "\n",
        "        # solve S*P = rhs_p and store it into the dof array of ph\n",
        "        ksp_S.solve(rhs_p, vecP)\n",
        "\n",
        "        # reconstruct velocity U = A^{-1}*(F-B'*P) and store it into the dof array of uh\n",
        "        B.multTranspose(vecP, tmp_u)\n",
        "        ksp_A.solve(vecF - tmp_u, vecU)\n",
        "\n",
        "    print(\"Schur-based solver:\")\n",
        "    print(\"     # iterations =\", ksp_S.getIterationNumber())\n",
        "    print(\"     last iter residual norm =\", ksp_S.getResidualNorm())\n",
        "    print(\"     (only to check convergence of kps_S: it is NOT a measure of the actual error)\")\n",
        "\n",
        "    return uh, ph"
      ],
      "metadata": {
        "id": "f47ml9VU7exB"
      },
      "id": "f47ml9VU7exB",
      "execution_count": null,
      "outputs": []
    },
    {
      "cell_type": "code",
      "execution_count": null,
      "id": "1b85ed5c",
      "metadata": {
        "id": "1b85ed5c"
      },
      "outputs": [],
      "source": [
        "# Data\n",
        "Re = 10\n",
        "\n",
        "#lamda functions that also depend on time\n",
        "\n",
        "u_ex_fun = lambda x, t: as_vector((\n",
        "    -cos(x[0]) * sin(x[1]) * sin(2*t),\n",
        "    sin(x[0]) * cos(x[1]) * sin(2*t)))\n",
        "p_ex_fun = lambda x, t: -0.25*(cos(2*x[0])+cos(2*x[1]))*sin(2*t)*sin(2*t)\n",
        "f_fun = lambda x, t: as_vector((\n",
        "    -2 * cos(x[0]) * sin(x[1]) * ( cos(2*t) + sin(2*t)/Re ),\n",
        "    2 * sin(x[0]) * cos(x[1]) * ( cos(2*t) + sin(2*t)/Re )))\n",
        "\n",
        "# Parameters\n",
        "n = 10\n",
        "t0 = 0\n",
        "T = 0.3\n",
        "dt = 0.1\n",
        "\n",
        "# Problem setup: mesh, FE spaces\n",
        "mesh = UnitSquareMesh(n, n, 'crossed')\n",
        "V=VectorFunctionSpace(mesh,'P',2)\n",
        "Q=FunctionSpace(mesh,'P',1)\n",
        "\n",
        "\n",
        "# Preconditioner for Schur complement\n",
        "\n",
        "p=TrialFunction(Q)\n",
        "q=TestFunction(Q)\n",
        "form=Re*p*q*dx +dt*inner(grad(p),grad(q))*dx\n",
        "P=assemble(form).M.handle\n"
      ]
    },
    {
      "cell_type": "code",
      "execution_count": null,
      "id": "e24e6466",
      "metadata": {
        "id": "e24e6466"
      },
      "outputs": [],
      "source": [
        "# Initial condition.\n",
        "u0 = interpolate(Constant((0., 0.)), V)\n",
        "print('t =', t0, ' :  ||u||_{L^2} =', norm(u0,'L2'))\n",
        "\n",
        "# Solve time-dependent problem.\n",
        "\n",
        "#arange is floating pint version of range\n",
        "for t in np.arange(t0+dt, T+0.1*dt, dt):  # T+0.1*dt to include also T: range/arang exclude the upper bound of the range\n",
        "\n",
        "   # Assemble time-dependent terms and finalize assembly\n",
        "   V,Q,A,B,F=ex1_assemble_Euler(V,Q,Re,n,dt,t,u0,u_ex_fun,p_ex_fun,f_fun)\n",
        "   ksp_UU,ksp_S,F=ex1_assemble_finalize(A,B,P,F,True)\n",
        "\n",
        "\n",
        "   # Advance in time\n",
        "   with F.dat.vec_ro as vecF:\n",
        "      uh, ph = lab4_ex1_solve(V,Q,ksp_UU,B,ksp_S,vecF)\n",
        "      print('t =', t, ' :  ||u||_{L^2} =', norm(uh,'L2'))\n",
        "\n",
        "      fig, ax = plt.subplots()\n",
        "      col = tripcolor(ph, axes=ax)\n",
        "      plt.colorbar(col)\n",
        "      plt.title('pressure')\n",
        "      fig, ax = plt.subplots()\n",
        "      # triplot(mesh, axes=ax)\n",
        "      col = quiver(uh, axes=ax)\n",
        "      plt.colorbar(col)\n",
        "      plt.title('velocity')\n",
        "\n",
        "      u0=uh\n",
        "\n"
      ]
    }
  ],
  "metadata": {
    "colab": {
      "private_outputs": true,
      "provenance": [],
      "include_colab_link": true
    },
    "kernelspec": {
      "display_name": "Python 3 (ipykernel)",
      "language": "python",
      "name": "python3"
    },
    "language_info": {
      "codemirror_mode": {
        "name": "ipython",
        "version": 3
      },
      "file_extension": ".py",
      "mimetype": "text/x-python",
      "name": "python",
      "nbconvert_exporter": "python",
      "pygments_lexer": "ipython3",
      "version": "3.10.12"
    }
  },
  "nbformat": 4,
  "nbformat_minor": 5
}