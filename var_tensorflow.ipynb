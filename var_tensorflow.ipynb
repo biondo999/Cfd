{
  "nbformat": 4,
  "nbformat_minor": 0,
  "metadata": {
    "colab": {
      "provenance": [],
      "authorship_tag": "ABX9TyOKDpeX26CorlrIMrjPWr+d",
      "include_colab_link": true
    },
    "kernelspec": {
      "name": "python3",
      "display_name": "Python 3"
    },
    "language_info": {
      "name": "python"
    }
  },
  "cells": [
    {
      "cell_type": "markdown",
      "metadata": {
        "id": "view-in-github",
        "colab_type": "text"
      },
      "source": [
        "<a href=\"https://colab.research.google.com/github/biondo999/Cfd/blob/main/var_tensorflow.ipynb\" target=\"_parent\"><img src=\"https://colab.research.google.com/assets/colab-badge.svg\" alt=\"Open In Colab\"/></a>"
      ]
    },
    {
      "cell_type": "code",
      "execution_count": 31,
      "metadata": {
        "id": "y8uQOo1KtJ9m"
      },
      "outputs": [],
      "source": [
        "import tensorflow as tf\n"
      ]
    },
    {
      "cell_type": "code",
      "source": [
        "x=tf.Variable(1.0)\n",
        "w=tf.Variable(3.0)\n",
        "y=tf.constant(4.0)\n",
        "\n",
        "tf.cos(w*x)-x*w*tf.sin(w*x)"
      ],
      "metadata": {
        "colab": {
          "base_uri": "https://localhost:8080/"
        },
        "id": "Q08mSpZftO3A",
        "outputId": "2b2e8389-67bc-4e51-c7f6-10ccd64f205e"
      },
      "execution_count": 32,
      "outputs": [
        {
          "output_type": "execute_result",
          "data": {
            "text/plain": [
              "<tf.Tensor: shape=(), dtype=float32, numpy=-1.4133525>"
            ]
          },
          "metadata": {},
          "execution_count": 32
        }
      ]
    },
    {
      "cell_type": "code",
      "source": [
        "def f(x,w):\n",
        "    return tf.sin(w*x)\n",
        ""
      ],
      "metadata": {
        "id": "p_9H54EPtO_s"
      },
      "execution_count": 26,
      "outputs": []
    },
    {
      "cell_type": "code",
      "source": [
        "def loss(x,w,y):\n",
        "    with tf.GradientTape() as tape:\n",
        "      tape.watch(x)\n",
        "      res=f(x,w)\n",
        "    grad=tape.gradient(res,x) # w tf.cos(w*x)\n",
        "    print(grad)\n",
        "    return grad\n"
      ],
      "metadata": {
        "id": "Dfz2ey-rtPBj"
      },
      "execution_count": 29,
      "outputs": []
    },
    {
      "cell_type": "code",
      "source": [
        "with tf.GradientTape() as tape:\n",
        "  loss_function=loss(x,w,y)+y\n",
        "tape.gradient(loss_function,w)  # tf.cos(w*x)-x*tf.sin(w*x)"
      ],
      "metadata": {
        "colab": {
          "base_uri": "https://localhost:8080/"
        },
        "id": "Hh6ueWvJtPFG",
        "outputId": "0c0d4f0a-0ff3-4a0f-91f3-5df45b927489"
      },
      "execution_count": 33,
      "outputs": [
        {
          "output_type": "stream",
          "name": "stdout",
          "text": [
            "tf.Tensor(-2.9699774, shape=(), dtype=float32)\n"
          ]
        },
        {
          "output_type": "execute_result",
          "data": {
            "text/plain": [
              "<tf.Tensor: shape=(), dtype=float32, numpy=-1.4133525>"
            ]
          },
          "metadata": {},
          "execution_count": 33
        }
      ]
    }
  ]
}